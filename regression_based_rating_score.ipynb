{
  "nbformat": 4,
  "nbformat_minor": 0,
  "metadata": {
    "colab": {
      "provenance": [],
      "collapsed_sections": [],
      "authorship_tag": "ABX9TyMMtbvMW1OoX1hXYtcT+fVQ",
      "include_colab_link": true
    },
    "kernelspec": {
      "name": "python3",
      "display_name": "Python 3"
    },
    "language_info": {
      "name": "python"
    }
  },
  "cells": [
    {
      "cell_type": "markdown",
      "metadata": {
        "id": "view-in-github",
        "colab_type": "text"
      },
      "source": [
        "<a href=\"https://colab.research.google.com/github/Bhandari007/recommendation_system/blob/main/regression_based_rating_score.ipynb\" target=\"_parent\"><img src=\"https://colab.research.google.com/assets/colab-badge.svg\" alt=\"Open In Colab\"/></a>"
      ]
    },
    {
      "cell_type": "markdown",
      "source": [
        "# Regression-based Rating Score Prediction using Embedding Features\n",
        "\n",
        "### Objectives\n",
        "\n",
        "* Build regression models to predict ratings using the combined embedding features."
      ],
      "metadata": {
        "id": "Fx9X7K6jm5Ke"
      }
    },
    {
      "cell_type": "markdown",
      "source": [
        "# Packages"
      ],
      "metadata": {
        "id": "qFOQpFP9nkHo"
      }
    },
    {
      "cell_type": "code",
      "source": [
        "import pandas as pd\n",
        "from sklearn.model_selection import train_test_split\n",
        "from sklearn import linear_model\n",
        "from sklearn.metrics import mean_squared_error"
      ],
      "metadata": {
        "id": "JT-wpfYunnf7"
      },
      "execution_count": 32,
      "outputs": []
    },
    {
      "cell_type": "code",
      "source": [
        "# Set a random state\n",
        "rs = 123"
      ],
      "metadata": {
        "id": "muapoya6nyO6"
      },
      "execution_count": 33,
      "outputs": []
    },
    {
      "cell_type": "markdown",
      "source": [
        "# Load Datasets"
      ],
      "metadata": {
        "id": "TtAyQeldn6_6"
      }
    },
    {
      "cell_type": "code",
      "source": [
        "rating_url = \"https://cf-courses-data.s3.us.cloud-object-storage.appdomain.cloud/IBM-ML321EN-SkillsNetwork/labs/datasets/ratings.csv\"\n",
        "user_emb_url = \"https://cf-courses-data.s3.us.cloud-object-storage.appdomain.cloud/IBM-ML321EN-SkillsNetwork/labs/datasets/user_embeddings.csv\"\n",
        "item_emb_url = \"https://cf-courses-data.s3.us.cloud-object-storage.appdomain.cloud/IBM-ML321EN-SkillsNetwork/labs/datasets/course_embeddings.csv\""
      ],
      "metadata": {
        "id": "bE99LzFcoAN9"
      },
      "execution_count": 34,
      "outputs": []
    },
    {
      "cell_type": "markdown",
      "source": [
        "The first dataset is the rating dataset that contains a user-item interaction matrix"
      ],
      "metadata": {
        "id": "epm-eCE8oAsB"
      }
    },
    {
      "cell_type": "code",
      "source": [
        "rating_df = pd.read_csv(rating_url)\n",
        "rating_df.head()"
      ],
      "metadata": {
        "colab": {
          "base_uri": "https://localhost:8080/",
          "height": 206
        },
        "id": "xf6rHBSZoHjp",
        "outputId": "611f43cd-82cf-4e4f-cef6-e196a72bfa86"
      },
      "execution_count": 35,
      "outputs": [
        {
          "output_type": "execute_result",
          "data": {
            "text/plain": [
              "      user        item  rating\n",
              "0  1889878    CC0101EN     3.0\n",
              "1  1342067    CL0101EN     3.0\n",
              "2  1990814  ML0120ENv3     3.0\n",
              "3   380098    BD0211EN     3.0\n",
              "4   779563    DS0101EN     3.0"
            ],
            "text/html": [
              "\n",
              "  <div id=\"df-00c28e55-0d9f-4c7f-aac6-f9659132b682\">\n",
              "    <div class=\"colab-df-container\">\n",
              "      <div>\n",
              "<style scoped>\n",
              "    .dataframe tbody tr th:only-of-type {\n",
              "        vertical-align: middle;\n",
              "    }\n",
              "\n",
              "    .dataframe tbody tr th {\n",
              "        vertical-align: top;\n",
              "    }\n",
              "\n",
              "    .dataframe thead th {\n",
              "        text-align: right;\n",
              "    }\n",
              "</style>\n",
              "<table border=\"1\" class=\"dataframe\">\n",
              "  <thead>\n",
              "    <tr style=\"text-align: right;\">\n",
              "      <th></th>\n",
              "      <th>user</th>\n",
              "      <th>item</th>\n",
              "      <th>rating</th>\n",
              "    </tr>\n",
              "  </thead>\n",
              "  <tbody>\n",
              "    <tr>\n",
              "      <th>0</th>\n",
              "      <td>1889878</td>\n",
              "      <td>CC0101EN</td>\n",
              "      <td>3.0</td>\n",
              "    </tr>\n",
              "    <tr>\n",
              "      <th>1</th>\n",
              "      <td>1342067</td>\n",
              "      <td>CL0101EN</td>\n",
              "      <td>3.0</td>\n",
              "    </tr>\n",
              "    <tr>\n",
              "      <th>2</th>\n",
              "      <td>1990814</td>\n",
              "      <td>ML0120ENv3</td>\n",
              "      <td>3.0</td>\n",
              "    </tr>\n",
              "    <tr>\n",
              "      <th>3</th>\n",
              "      <td>380098</td>\n",
              "      <td>BD0211EN</td>\n",
              "      <td>3.0</td>\n",
              "    </tr>\n",
              "    <tr>\n",
              "      <th>4</th>\n",
              "      <td>779563</td>\n",
              "      <td>DS0101EN</td>\n",
              "      <td>3.0</td>\n",
              "    </tr>\n",
              "  </tbody>\n",
              "</table>\n",
              "</div>\n",
              "      <button class=\"colab-df-convert\" onclick=\"convertToInteractive('df-00c28e55-0d9f-4c7f-aac6-f9659132b682')\"\n",
              "              title=\"Convert this dataframe to an interactive table.\"\n",
              "              style=\"display:none;\">\n",
              "        \n",
              "  <svg xmlns=\"http://www.w3.org/2000/svg\" height=\"24px\"viewBox=\"0 0 24 24\"\n",
              "       width=\"24px\">\n",
              "    <path d=\"M0 0h24v24H0V0z\" fill=\"none\"/>\n",
              "    <path d=\"M18.56 5.44l.94 2.06.94-2.06 2.06-.94-2.06-.94-.94-2.06-.94 2.06-2.06.94zm-11 1L8.5 8.5l.94-2.06 2.06-.94-2.06-.94L8.5 2.5l-.94 2.06-2.06.94zm10 10l.94 2.06.94-2.06 2.06-.94-2.06-.94-.94-2.06-.94 2.06-2.06.94z\"/><path d=\"M17.41 7.96l-1.37-1.37c-.4-.4-.92-.59-1.43-.59-.52 0-1.04.2-1.43.59L10.3 9.45l-7.72 7.72c-.78.78-.78 2.05 0 2.83L4 21.41c.39.39.9.59 1.41.59.51 0 1.02-.2 1.41-.59l7.78-7.78 2.81-2.81c.8-.78.8-2.07 0-2.86zM5.41 20L4 18.59l7.72-7.72 1.47 1.35L5.41 20z\"/>\n",
              "  </svg>\n",
              "      </button>\n",
              "      \n",
              "  <style>\n",
              "    .colab-df-container {\n",
              "      display:flex;\n",
              "      flex-wrap:wrap;\n",
              "      gap: 12px;\n",
              "    }\n",
              "\n",
              "    .colab-df-convert {\n",
              "      background-color: #E8F0FE;\n",
              "      border: none;\n",
              "      border-radius: 50%;\n",
              "      cursor: pointer;\n",
              "      display: none;\n",
              "      fill: #1967D2;\n",
              "      height: 32px;\n",
              "      padding: 0 0 0 0;\n",
              "      width: 32px;\n",
              "    }\n",
              "\n",
              "    .colab-df-convert:hover {\n",
              "      background-color: #E2EBFA;\n",
              "      box-shadow: 0px 1px 2px rgba(60, 64, 67, 0.3), 0px 1px 3px 1px rgba(60, 64, 67, 0.15);\n",
              "      fill: #174EA6;\n",
              "    }\n",
              "\n",
              "    [theme=dark] .colab-df-convert {\n",
              "      background-color: #3B4455;\n",
              "      fill: #D2E3FC;\n",
              "    }\n",
              "\n",
              "    [theme=dark] .colab-df-convert:hover {\n",
              "      background-color: #434B5C;\n",
              "      box-shadow: 0px 1px 3px 1px rgba(0, 0, 0, 0.15);\n",
              "      filter: drop-shadow(0px 1px 2px rgba(0, 0, 0, 0.3));\n",
              "      fill: #FFFFFF;\n",
              "    }\n",
              "  </style>\n",
              "\n",
              "      <script>\n",
              "        const buttonEl =\n",
              "          document.querySelector('#df-00c28e55-0d9f-4c7f-aac6-f9659132b682 button.colab-df-convert');\n",
              "        buttonEl.style.display =\n",
              "          google.colab.kernel.accessAllowed ? 'block' : 'none';\n",
              "\n",
              "        async function convertToInteractive(key) {\n",
              "          const element = document.querySelector('#df-00c28e55-0d9f-4c7f-aac6-f9659132b682');\n",
              "          const dataTable =\n",
              "            await google.colab.kernel.invokeFunction('convertToInteractive',\n",
              "                                                     [key], {});\n",
              "          if (!dataTable) return;\n",
              "\n",
              "          const docLinkHtml = 'Like what you see? Visit the ' +\n",
              "            '<a target=\"_blank\" href=https://colab.research.google.com/notebooks/data_table.ipynb>data table notebook</a>'\n",
              "            + ' to learn more about interactive tables.';\n",
              "          element.innerHTML = '';\n",
              "          dataTable['output_type'] = 'display_data';\n",
              "          await google.colab.output.renderOutput(dataTable, element);\n",
              "          const docLink = document.createElement('div');\n",
              "          docLink.innerHTML = docLinkHtml;\n",
              "          element.appendChild(docLink);\n",
              "        }\n",
              "      </script>\n",
              "    </div>\n",
              "  </div>\n",
              "  "
            ]
          },
          "metadata": {},
          "execution_count": 35
        }
      ]
    },
    {
      "cell_type": "code",
      "source": [
        "# Load user embeddings\n",
        "user_emb = pd.read_csv(user_emb_url)\n",
        "# Load item embeddings\n",
        "item_emb = pd.read_csv(item_emb_url)"
      ],
      "metadata": {
        "id": "LckMmgG6oMtP"
      },
      "execution_count": 36,
      "outputs": []
    },
    {
      "cell_type": "code",
      "source": [
        "user_emb.head()"
      ],
      "metadata": {
        "colab": {
          "base_uri": "https://localhost:8080/",
          "height": 270
        },
        "id": "Y-pSrn6vok1F",
        "outputId": "8291a622-baf3-4cf5-abe6-bf51c3ac9393"
      },
      "execution_count": 37,
      "outputs": [
        {
          "output_type": "execute_result",
          "data": {
            "text/plain": [
              "      user  UFeature0  UFeature1  UFeature2  UFeature3  UFeature4  UFeature5  \\\n",
              "0  1889878   0.080721  -0.129561   0.087998   0.030231   0.082691  -0.004176   \n",
              "1  1342067   0.068047  -0.112781   0.045208  -0.007570  -0.038382   0.068037   \n",
              "2  1990814   0.124623   0.012910  -0.072627   0.049935   0.020158   0.133306   \n",
              "3   380098  -0.034870   0.000715   0.077406   0.070311  -0.043007  -0.035446   \n",
              "4   779563   0.106414  -0.001887  -0.017211  -0.042277  -0.074953  -0.056732   \n",
              "\n",
              "   UFeature6  UFeature7  UFeature8  UFeature9  UFeature10  UFeature11  \\\n",
              "0  -0.003480   0.091464  -0.040247   0.018958   -0.153328   -0.090143   \n",
              "1   0.114949   0.104128  -0.034401   0.004011    0.064832    0.165857   \n",
              "2  -0.035366  -0.156026   0.039269   0.042195    0.014695   -0.115989   \n",
              "3   0.032846  -0.060944   0.112384   0.002114    0.090660   -0.068545   \n",
              "4   0.074610  -0.019367  -0.031341   0.064896   -0.048158   -0.047309   \n",
              "\n",
              "   UFeature12  UFeature13  UFeature14  UFeature15  \n",
              "0    0.082830   -0.058721    0.057929   -0.001472  \n",
              "1   -0.004384    0.053257    0.014308    0.056684  \n",
              "2    0.031158    0.102021   -0.020601    0.116488  \n",
              "3    0.008967    0.063962    0.052347    0.018072  \n",
              "4   -0.007544    0.010474   -0.032287   -0.083983  "
            ],
            "text/html": [
              "\n",
              "  <div id=\"df-14ea6117-854f-44fe-b619-4b612481a6e3\">\n",
              "    <div class=\"colab-df-container\">\n",
              "      <div>\n",
              "<style scoped>\n",
              "    .dataframe tbody tr th:only-of-type {\n",
              "        vertical-align: middle;\n",
              "    }\n",
              "\n",
              "    .dataframe tbody tr th {\n",
              "        vertical-align: top;\n",
              "    }\n",
              "\n",
              "    .dataframe thead th {\n",
              "        text-align: right;\n",
              "    }\n",
              "</style>\n",
              "<table border=\"1\" class=\"dataframe\">\n",
              "  <thead>\n",
              "    <tr style=\"text-align: right;\">\n",
              "      <th></th>\n",
              "      <th>user</th>\n",
              "      <th>UFeature0</th>\n",
              "      <th>UFeature1</th>\n",
              "      <th>UFeature2</th>\n",
              "      <th>UFeature3</th>\n",
              "      <th>UFeature4</th>\n",
              "      <th>UFeature5</th>\n",
              "      <th>UFeature6</th>\n",
              "      <th>UFeature7</th>\n",
              "      <th>UFeature8</th>\n",
              "      <th>UFeature9</th>\n",
              "      <th>UFeature10</th>\n",
              "      <th>UFeature11</th>\n",
              "      <th>UFeature12</th>\n",
              "      <th>UFeature13</th>\n",
              "      <th>UFeature14</th>\n",
              "      <th>UFeature15</th>\n",
              "    </tr>\n",
              "  </thead>\n",
              "  <tbody>\n",
              "    <tr>\n",
              "      <th>0</th>\n",
              "      <td>1889878</td>\n",
              "      <td>0.080721</td>\n",
              "      <td>-0.129561</td>\n",
              "      <td>0.087998</td>\n",
              "      <td>0.030231</td>\n",
              "      <td>0.082691</td>\n",
              "      <td>-0.004176</td>\n",
              "      <td>-0.003480</td>\n",
              "      <td>0.091464</td>\n",
              "      <td>-0.040247</td>\n",
              "      <td>0.018958</td>\n",
              "      <td>-0.153328</td>\n",
              "      <td>-0.090143</td>\n",
              "      <td>0.082830</td>\n",
              "      <td>-0.058721</td>\n",
              "      <td>0.057929</td>\n",
              "      <td>-0.001472</td>\n",
              "    </tr>\n",
              "    <tr>\n",
              "      <th>1</th>\n",
              "      <td>1342067</td>\n",
              "      <td>0.068047</td>\n",
              "      <td>-0.112781</td>\n",
              "      <td>0.045208</td>\n",
              "      <td>-0.007570</td>\n",
              "      <td>-0.038382</td>\n",
              "      <td>0.068037</td>\n",
              "      <td>0.114949</td>\n",
              "      <td>0.104128</td>\n",
              "      <td>-0.034401</td>\n",
              "      <td>0.004011</td>\n",
              "      <td>0.064832</td>\n",
              "      <td>0.165857</td>\n",
              "      <td>-0.004384</td>\n",
              "      <td>0.053257</td>\n",
              "      <td>0.014308</td>\n",
              "      <td>0.056684</td>\n",
              "    </tr>\n",
              "    <tr>\n",
              "      <th>2</th>\n",
              "      <td>1990814</td>\n",
              "      <td>0.124623</td>\n",
              "      <td>0.012910</td>\n",
              "      <td>-0.072627</td>\n",
              "      <td>0.049935</td>\n",
              "      <td>0.020158</td>\n",
              "      <td>0.133306</td>\n",
              "      <td>-0.035366</td>\n",
              "      <td>-0.156026</td>\n",
              "      <td>0.039269</td>\n",
              "      <td>0.042195</td>\n",
              "      <td>0.014695</td>\n",
              "      <td>-0.115989</td>\n",
              "      <td>0.031158</td>\n",
              "      <td>0.102021</td>\n",
              "      <td>-0.020601</td>\n",
              "      <td>0.116488</td>\n",
              "    </tr>\n",
              "    <tr>\n",
              "      <th>3</th>\n",
              "      <td>380098</td>\n",
              "      <td>-0.034870</td>\n",
              "      <td>0.000715</td>\n",
              "      <td>0.077406</td>\n",
              "      <td>0.070311</td>\n",
              "      <td>-0.043007</td>\n",
              "      <td>-0.035446</td>\n",
              "      <td>0.032846</td>\n",
              "      <td>-0.060944</td>\n",
              "      <td>0.112384</td>\n",
              "      <td>0.002114</td>\n",
              "      <td>0.090660</td>\n",
              "      <td>-0.068545</td>\n",
              "      <td>0.008967</td>\n",
              "      <td>0.063962</td>\n",
              "      <td>0.052347</td>\n",
              "      <td>0.018072</td>\n",
              "    </tr>\n",
              "    <tr>\n",
              "      <th>4</th>\n",
              "      <td>779563</td>\n",
              "      <td>0.106414</td>\n",
              "      <td>-0.001887</td>\n",
              "      <td>-0.017211</td>\n",
              "      <td>-0.042277</td>\n",
              "      <td>-0.074953</td>\n",
              "      <td>-0.056732</td>\n",
              "      <td>0.074610</td>\n",
              "      <td>-0.019367</td>\n",
              "      <td>-0.031341</td>\n",
              "      <td>0.064896</td>\n",
              "      <td>-0.048158</td>\n",
              "      <td>-0.047309</td>\n",
              "      <td>-0.007544</td>\n",
              "      <td>0.010474</td>\n",
              "      <td>-0.032287</td>\n",
              "      <td>-0.083983</td>\n",
              "    </tr>\n",
              "  </tbody>\n",
              "</table>\n",
              "</div>\n",
              "      <button class=\"colab-df-convert\" onclick=\"convertToInteractive('df-14ea6117-854f-44fe-b619-4b612481a6e3')\"\n",
              "              title=\"Convert this dataframe to an interactive table.\"\n",
              "              style=\"display:none;\">\n",
              "        \n",
              "  <svg xmlns=\"http://www.w3.org/2000/svg\" height=\"24px\"viewBox=\"0 0 24 24\"\n",
              "       width=\"24px\">\n",
              "    <path d=\"M0 0h24v24H0V0z\" fill=\"none\"/>\n",
              "    <path d=\"M18.56 5.44l.94 2.06.94-2.06 2.06-.94-2.06-.94-.94-2.06-.94 2.06-2.06.94zm-11 1L8.5 8.5l.94-2.06 2.06-.94-2.06-.94L8.5 2.5l-.94 2.06-2.06.94zm10 10l.94 2.06.94-2.06 2.06-.94-2.06-.94-.94-2.06-.94 2.06-2.06.94z\"/><path d=\"M17.41 7.96l-1.37-1.37c-.4-.4-.92-.59-1.43-.59-.52 0-1.04.2-1.43.59L10.3 9.45l-7.72 7.72c-.78.78-.78 2.05 0 2.83L4 21.41c.39.39.9.59 1.41.59.51 0 1.02-.2 1.41-.59l7.78-7.78 2.81-2.81c.8-.78.8-2.07 0-2.86zM5.41 20L4 18.59l7.72-7.72 1.47 1.35L5.41 20z\"/>\n",
              "  </svg>\n",
              "      </button>\n",
              "      \n",
              "  <style>\n",
              "    .colab-df-container {\n",
              "      display:flex;\n",
              "      flex-wrap:wrap;\n",
              "      gap: 12px;\n",
              "    }\n",
              "\n",
              "    .colab-df-convert {\n",
              "      background-color: #E8F0FE;\n",
              "      border: none;\n",
              "      border-radius: 50%;\n",
              "      cursor: pointer;\n",
              "      display: none;\n",
              "      fill: #1967D2;\n",
              "      height: 32px;\n",
              "      padding: 0 0 0 0;\n",
              "      width: 32px;\n",
              "    }\n",
              "\n",
              "    .colab-df-convert:hover {\n",
              "      background-color: #E2EBFA;\n",
              "      box-shadow: 0px 1px 2px rgba(60, 64, 67, 0.3), 0px 1px 3px 1px rgba(60, 64, 67, 0.15);\n",
              "      fill: #174EA6;\n",
              "    }\n",
              "\n",
              "    [theme=dark] .colab-df-convert {\n",
              "      background-color: #3B4455;\n",
              "      fill: #D2E3FC;\n",
              "    }\n",
              "\n",
              "    [theme=dark] .colab-df-convert:hover {\n",
              "      background-color: #434B5C;\n",
              "      box-shadow: 0px 1px 3px 1px rgba(0, 0, 0, 0.15);\n",
              "      filter: drop-shadow(0px 1px 2px rgba(0, 0, 0, 0.3));\n",
              "      fill: #FFFFFF;\n",
              "    }\n",
              "  </style>\n",
              "\n",
              "      <script>\n",
              "        const buttonEl =\n",
              "          document.querySelector('#df-14ea6117-854f-44fe-b619-4b612481a6e3 button.colab-df-convert');\n",
              "        buttonEl.style.display =\n",
              "          google.colab.kernel.accessAllowed ? 'block' : 'none';\n",
              "\n",
              "        async function convertToInteractive(key) {\n",
              "          const element = document.querySelector('#df-14ea6117-854f-44fe-b619-4b612481a6e3');\n",
              "          const dataTable =\n",
              "            await google.colab.kernel.invokeFunction('convertToInteractive',\n",
              "                                                     [key], {});\n",
              "          if (!dataTable) return;\n",
              "\n",
              "          const docLinkHtml = 'Like what you see? Visit the ' +\n",
              "            '<a target=\"_blank\" href=https://colab.research.google.com/notebooks/data_table.ipynb>data table notebook</a>'\n",
              "            + ' to learn more about interactive tables.';\n",
              "          element.innerHTML = '';\n",
              "          dataTable['output_type'] = 'display_data';\n",
              "          await google.colab.output.renderOutput(dataTable, element);\n",
              "          const docLink = document.createElement('div');\n",
              "          docLink.innerHTML = docLinkHtml;\n",
              "          element.appendChild(docLink);\n",
              "        }\n",
              "      </script>\n",
              "    </div>\n",
              "  </div>\n",
              "  "
            ]
          },
          "metadata": {},
          "execution_count": 37
        }
      ]
    },
    {
      "cell_type": "code",
      "source": [
        "item_emb.head()"
      ],
      "metadata": {
        "colab": {
          "base_uri": "https://localhost:8080/",
          "height": 270
        },
        "id": "E7JXsyD5o4uP",
        "outputId": "4ac87047-68ef-4cfe-deb2-739116609447"
      },
      "execution_count": 38,
      "outputs": [
        {
          "output_type": "execute_result",
          "data": {
            "text/plain": [
              "         item  CFeature0  CFeature1  CFeature2  CFeature3  CFeature4  \\\n",
              "0    CC0101EN   0.009657  -0.005238  -0.004098   0.016303  -0.005274   \n",
              "1    CL0101EN  -0.008611   0.028041   0.021899  -0.001465   0.006900   \n",
              "2  ML0120ENv3   0.027439  -0.027649  -0.007484  -0.059451   0.003972   \n",
              "3    BD0211EN   0.020163  -0.011972  -0.003714  -0.015548  -0.007540   \n",
              "4    DS0101EN   0.006399   0.000492   0.005640   0.009639  -0.005487   \n",
              "\n",
              "   CFeature5  CFeature6  CFeature7  CFeature8  CFeature9  CFeature10  \\\n",
              "0  -0.000361  -0.015081  -0.012229   0.015686   0.008401   -0.035495   \n",
              "1  -0.017981   0.010899  -0.037610  -0.019397  -0.025682   -0.000620   \n",
              "2   0.020496  -0.012695   0.036138   0.019965   0.018686   -0.010450   \n",
              "3   0.014847  -0.005700  -0.006068  -0.005792  -0.023036    0.015999   \n",
              "4  -0.000590  -0.010015  -0.001514  -0.017598   0.003590    0.016799   \n",
              "\n",
              "   CFeature11  CFeature12  CFeature13  CFeature14  CFeature15  \n",
              "0    0.009381   -0.032560   -0.007292    0.000966   -0.006218  \n",
              "1    0.038803    0.000196   -0.045343    0.012863    0.019429  \n",
              "2   -0.050011    0.013845   -0.044454   -0.001480   -0.007559  \n",
              "3   -0.023480    0.015469    0.022221   -0.023115   -0.001785  \n",
              "4    0.002732    0.005162    0.015031   -0.000877   -0.021283  "
            ],
            "text/html": [
              "\n",
              "  <div id=\"df-274bdb0a-d29e-4921-8212-896e4fc0e5c5\">\n",
              "    <div class=\"colab-df-container\">\n",
              "      <div>\n",
              "<style scoped>\n",
              "    .dataframe tbody tr th:only-of-type {\n",
              "        vertical-align: middle;\n",
              "    }\n",
              "\n",
              "    .dataframe tbody tr th {\n",
              "        vertical-align: top;\n",
              "    }\n",
              "\n",
              "    .dataframe thead th {\n",
              "        text-align: right;\n",
              "    }\n",
              "</style>\n",
              "<table border=\"1\" class=\"dataframe\">\n",
              "  <thead>\n",
              "    <tr style=\"text-align: right;\">\n",
              "      <th></th>\n",
              "      <th>item</th>\n",
              "      <th>CFeature0</th>\n",
              "      <th>CFeature1</th>\n",
              "      <th>CFeature2</th>\n",
              "      <th>CFeature3</th>\n",
              "      <th>CFeature4</th>\n",
              "      <th>CFeature5</th>\n",
              "      <th>CFeature6</th>\n",
              "      <th>CFeature7</th>\n",
              "      <th>CFeature8</th>\n",
              "      <th>CFeature9</th>\n",
              "      <th>CFeature10</th>\n",
              "      <th>CFeature11</th>\n",
              "      <th>CFeature12</th>\n",
              "      <th>CFeature13</th>\n",
              "      <th>CFeature14</th>\n",
              "      <th>CFeature15</th>\n",
              "    </tr>\n",
              "  </thead>\n",
              "  <tbody>\n",
              "    <tr>\n",
              "      <th>0</th>\n",
              "      <td>CC0101EN</td>\n",
              "      <td>0.009657</td>\n",
              "      <td>-0.005238</td>\n",
              "      <td>-0.004098</td>\n",
              "      <td>0.016303</td>\n",
              "      <td>-0.005274</td>\n",
              "      <td>-0.000361</td>\n",
              "      <td>-0.015081</td>\n",
              "      <td>-0.012229</td>\n",
              "      <td>0.015686</td>\n",
              "      <td>0.008401</td>\n",
              "      <td>-0.035495</td>\n",
              "      <td>0.009381</td>\n",
              "      <td>-0.032560</td>\n",
              "      <td>-0.007292</td>\n",
              "      <td>0.000966</td>\n",
              "      <td>-0.006218</td>\n",
              "    </tr>\n",
              "    <tr>\n",
              "      <th>1</th>\n",
              "      <td>CL0101EN</td>\n",
              "      <td>-0.008611</td>\n",
              "      <td>0.028041</td>\n",
              "      <td>0.021899</td>\n",
              "      <td>-0.001465</td>\n",
              "      <td>0.006900</td>\n",
              "      <td>-0.017981</td>\n",
              "      <td>0.010899</td>\n",
              "      <td>-0.037610</td>\n",
              "      <td>-0.019397</td>\n",
              "      <td>-0.025682</td>\n",
              "      <td>-0.000620</td>\n",
              "      <td>0.038803</td>\n",
              "      <td>0.000196</td>\n",
              "      <td>-0.045343</td>\n",
              "      <td>0.012863</td>\n",
              "      <td>0.019429</td>\n",
              "    </tr>\n",
              "    <tr>\n",
              "      <th>2</th>\n",
              "      <td>ML0120ENv3</td>\n",
              "      <td>0.027439</td>\n",
              "      <td>-0.027649</td>\n",
              "      <td>-0.007484</td>\n",
              "      <td>-0.059451</td>\n",
              "      <td>0.003972</td>\n",
              "      <td>0.020496</td>\n",
              "      <td>-0.012695</td>\n",
              "      <td>0.036138</td>\n",
              "      <td>0.019965</td>\n",
              "      <td>0.018686</td>\n",
              "      <td>-0.010450</td>\n",
              "      <td>-0.050011</td>\n",
              "      <td>0.013845</td>\n",
              "      <td>-0.044454</td>\n",
              "      <td>-0.001480</td>\n",
              "      <td>-0.007559</td>\n",
              "    </tr>\n",
              "    <tr>\n",
              "      <th>3</th>\n",
              "      <td>BD0211EN</td>\n",
              "      <td>0.020163</td>\n",
              "      <td>-0.011972</td>\n",
              "      <td>-0.003714</td>\n",
              "      <td>-0.015548</td>\n",
              "      <td>-0.007540</td>\n",
              "      <td>0.014847</td>\n",
              "      <td>-0.005700</td>\n",
              "      <td>-0.006068</td>\n",
              "      <td>-0.005792</td>\n",
              "      <td>-0.023036</td>\n",
              "      <td>0.015999</td>\n",
              "      <td>-0.023480</td>\n",
              "      <td>0.015469</td>\n",
              "      <td>0.022221</td>\n",
              "      <td>-0.023115</td>\n",
              "      <td>-0.001785</td>\n",
              "    </tr>\n",
              "    <tr>\n",
              "      <th>4</th>\n",
              "      <td>DS0101EN</td>\n",
              "      <td>0.006399</td>\n",
              "      <td>0.000492</td>\n",
              "      <td>0.005640</td>\n",
              "      <td>0.009639</td>\n",
              "      <td>-0.005487</td>\n",
              "      <td>-0.000590</td>\n",
              "      <td>-0.010015</td>\n",
              "      <td>-0.001514</td>\n",
              "      <td>-0.017598</td>\n",
              "      <td>0.003590</td>\n",
              "      <td>0.016799</td>\n",
              "      <td>0.002732</td>\n",
              "      <td>0.005162</td>\n",
              "      <td>0.015031</td>\n",
              "      <td>-0.000877</td>\n",
              "      <td>-0.021283</td>\n",
              "    </tr>\n",
              "  </tbody>\n",
              "</table>\n",
              "</div>\n",
              "      <button class=\"colab-df-convert\" onclick=\"convertToInteractive('df-274bdb0a-d29e-4921-8212-896e4fc0e5c5')\"\n",
              "              title=\"Convert this dataframe to an interactive table.\"\n",
              "              style=\"display:none;\">\n",
              "        \n",
              "  <svg xmlns=\"http://www.w3.org/2000/svg\" height=\"24px\"viewBox=\"0 0 24 24\"\n",
              "       width=\"24px\">\n",
              "    <path d=\"M0 0h24v24H0V0z\" fill=\"none\"/>\n",
              "    <path d=\"M18.56 5.44l.94 2.06.94-2.06 2.06-.94-2.06-.94-.94-2.06-.94 2.06-2.06.94zm-11 1L8.5 8.5l.94-2.06 2.06-.94-2.06-.94L8.5 2.5l-.94 2.06-2.06.94zm10 10l.94 2.06.94-2.06 2.06-.94-2.06-.94-.94-2.06-.94 2.06-2.06.94z\"/><path d=\"M17.41 7.96l-1.37-1.37c-.4-.4-.92-.59-1.43-.59-.52 0-1.04.2-1.43.59L10.3 9.45l-7.72 7.72c-.78.78-.78 2.05 0 2.83L4 21.41c.39.39.9.59 1.41.59.51 0 1.02-.2 1.41-.59l7.78-7.78 2.81-2.81c.8-.78.8-2.07 0-2.86zM5.41 20L4 18.59l7.72-7.72 1.47 1.35L5.41 20z\"/>\n",
              "  </svg>\n",
              "      </button>\n",
              "      \n",
              "  <style>\n",
              "    .colab-df-container {\n",
              "      display:flex;\n",
              "      flex-wrap:wrap;\n",
              "      gap: 12px;\n",
              "    }\n",
              "\n",
              "    .colab-df-convert {\n",
              "      background-color: #E8F0FE;\n",
              "      border: none;\n",
              "      border-radius: 50%;\n",
              "      cursor: pointer;\n",
              "      display: none;\n",
              "      fill: #1967D2;\n",
              "      height: 32px;\n",
              "      padding: 0 0 0 0;\n",
              "      width: 32px;\n",
              "    }\n",
              "\n",
              "    .colab-df-convert:hover {\n",
              "      background-color: #E2EBFA;\n",
              "      box-shadow: 0px 1px 2px rgba(60, 64, 67, 0.3), 0px 1px 3px 1px rgba(60, 64, 67, 0.15);\n",
              "      fill: #174EA6;\n",
              "    }\n",
              "\n",
              "    [theme=dark] .colab-df-convert {\n",
              "      background-color: #3B4455;\n",
              "      fill: #D2E3FC;\n",
              "    }\n",
              "\n",
              "    [theme=dark] .colab-df-convert:hover {\n",
              "      background-color: #434B5C;\n",
              "      box-shadow: 0px 1px 3px 1px rgba(0, 0, 0, 0.15);\n",
              "      filter: drop-shadow(0px 1px 2px rgba(0, 0, 0, 0.3));\n",
              "      fill: #FFFFFF;\n",
              "    }\n",
              "  </style>\n",
              "\n",
              "      <script>\n",
              "        const buttonEl =\n",
              "          document.querySelector('#df-274bdb0a-d29e-4921-8212-896e4fc0e5c5 button.colab-df-convert');\n",
              "        buttonEl.style.display =\n",
              "          google.colab.kernel.accessAllowed ? 'block' : 'none';\n",
              "\n",
              "        async function convertToInteractive(key) {\n",
              "          const element = document.querySelector('#df-274bdb0a-d29e-4921-8212-896e4fc0e5c5');\n",
              "          const dataTable =\n",
              "            await google.colab.kernel.invokeFunction('convertToInteractive',\n",
              "                                                     [key], {});\n",
              "          if (!dataTable) return;\n",
              "\n",
              "          const docLinkHtml = 'Like what you see? Visit the ' +\n",
              "            '<a target=\"_blank\" href=https://colab.research.google.com/notebooks/data_table.ipynb>data table notebook</a>'\n",
              "            + ' to learn more about interactive tables.';\n",
              "          element.innerHTML = '';\n",
              "          dataTable['output_type'] = 'display_data';\n",
              "          await google.colab.output.renderOutput(dataTable, element);\n",
              "          const docLink = document.createElement('div');\n",
              "          docLink.innerHTML = docLinkHtml;\n",
              "          element.appendChild(docLink);\n",
              "        }\n",
              "      </script>\n",
              "    </div>\n",
              "  </div>\n",
              "  "
            ]
          },
          "metadata": {},
          "execution_count": 38
        }
      ]
    },
    {
      "cell_type": "code",
      "source": [
        "# Merge user embedding features\n",
        "user_emb_merged = pd.merge(rating_df, user_emb, how='left', left_on = 'user', right_on = 'user').fillna(0)\n",
        "\n",
        "# Merge course embedding features\n",
        "\n",
        "merged_df  = pd.merge(user_emb_merged, item_emb, how = 'left', left_on = 'item', right_on = 'item').fillna(0)\n",
        "\n",
        "\n"
      ],
      "metadata": {
        "id": "vCAOEXMMo6bD"
      },
      "execution_count": 39,
      "outputs": []
    },
    {
      "cell_type": "code",
      "source": [
        "merged_df.head()"
      ],
      "metadata": {
        "colab": {
          "base_uri": "https://localhost:8080/",
          "height": 299
        },
        "id": "eNTWYSJipaOz",
        "outputId": "aa800d00-dbdd-49b9-dd58-d5af129f87e6"
      },
      "execution_count": 40,
      "outputs": [
        {
          "output_type": "execute_result",
          "data": {
            "text/plain": [
              "      user        item  rating  UFeature0  UFeature1  UFeature2  UFeature3  \\\n",
              "0  1889878    CC0101EN     3.0   0.080721  -0.129561   0.087998   0.030231   \n",
              "1  1342067    CL0101EN     3.0   0.068047  -0.112781   0.045208  -0.007570   \n",
              "2  1990814  ML0120ENv3     3.0   0.124623   0.012910  -0.072627   0.049935   \n",
              "3   380098    BD0211EN     3.0  -0.034870   0.000715   0.077406   0.070311   \n",
              "4   779563    DS0101EN     3.0   0.106414  -0.001887  -0.017211  -0.042277   \n",
              "\n",
              "   UFeature4  UFeature5  UFeature6  ...  CFeature6  CFeature7  CFeature8  \\\n",
              "0   0.082691  -0.004176  -0.003480  ...  -0.015081  -0.012229   0.015686   \n",
              "1  -0.038382   0.068037   0.114949  ...   0.010899  -0.037610  -0.019397   \n",
              "2   0.020158   0.133306  -0.035366  ...  -0.012695   0.036138   0.019965   \n",
              "3  -0.043007  -0.035446   0.032846  ...  -0.005700  -0.006068  -0.005792   \n",
              "4  -0.074953  -0.056732   0.074610  ...  -0.010015  -0.001514  -0.017598   \n",
              "\n",
              "   CFeature9  CFeature10  CFeature11  CFeature12  CFeature13  CFeature14  \\\n",
              "0   0.008401   -0.035495    0.009381   -0.032560   -0.007292    0.000966   \n",
              "1  -0.025682   -0.000620    0.038803    0.000196   -0.045343    0.012863   \n",
              "2   0.018686   -0.010450   -0.050011    0.013845   -0.044454   -0.001480   \n",
              "3  -0.023036    0.015999   -0.023480    0.015469    0.022221   -0.023115   \n",
              "4   0.003590    0.016799    0.002732    0.005162    0.015031   -0.000877   \n",
              "\n",
              "   CFeature15  \n",
              "0   -0.006218  \n",
              "1    0.019429  \n",
              "2   -0.007559  \n",
              "3   -0.001785  \n",
              "4   -0.021283  \n",
              "\n",
              "[5 rows x 35 columns]"
            ],
            "text/html": [
              "\n",
              "  <div id=\"df-1099ceab-8bc2-4a0b-91b0-1bd8d2772aaf\">\n",
              "    <div class=\"colab-df-container\">\n",
              "      <div>\n",
              "<style scoped>\n",
              "    .dataframe tbody tr th:only-of-type {\n",
              "        vertical-align: middle;\n",
              "    }\n",
              "\n",
              "    .dataframe tbody tr th {\n",
              "        vertical-align: top;\n",
              "    }\n",
              "\n",
              "    .dataframe thead th {\n",
              "        text-align: right;\n",
              "    }\n",
              "</style>\n",
              "<table border=\"1\" class=\"dataframe\">\n",
              "  <thead>\n",
              "    <tr style=\"text-align: right;\">\n",
              "      <th></th>\n",
              "      <th>user</th>\n",
              "      <th>item</th>\n",
              "      <th>rating</th>\n",
              "      <th>UFeature0</th>\n",
              "      <th>UFeature1</th>\n",
              "      <th>UFeature2</th>\n",
              "      <th>UFeature3</th>\n",
              "      <th>UFeature4</th>\n",
              "      <th>UFeature5</th>\n",
              "      <th>UFeature6</th>\n",
              "      <th>...</th>\n",
              "      <th>CFeature6</th>\n",
              "      <th>CFeature7</th>\n",
              "      <th>CFeature8</th>\n",
              "      <th>CFeature9</th>\n",
              "      <th>CFeature10</th>\n",
              "      <th>CFeature11</th>\n",
              "      <th>CFeature12</th>\n",
              "      <th>CFeature13</th>\n",
              "      <th>CFeature14</th>\n",
              "      <th>CFeature15</th>\n",
              "    </tr>\n",
              "  </thead>\n",
              "  <tbody>\n",
              "    <tr>\n",
              "      <th>0</th>\n",
              "      <td>1889878</td>\n",
              "      <td>CC0101EN</td>\n",
              "      <td>3.0</td>\n",
              "      <td>0.080721</td>\n",
              "      <td>-0.129561</td>\n",
              "      <td>0.087998</td>\n",
              "      <td>0.030231</td>\n",
              "      <td>0.082691</td>\n",
              "      <td>-0.004176</td>\n",
              "      <td>-0.003480</td>\n",
              "      <td>...</td>\n",
              "      <td>-0.015081</td>\n",
              "      <td>-0.012229</td>\n",
              "      <td>0.015686</td>\n",
              "      <td>0.008401</td>\n",
              "      <td>-0.035495</td>\n",
              "      <td>0.009381</td>\n",
              "      <td>-0.032560</td>\n",
              "      <td>-0.007292</td>\n",
              "      <td>0.000966</td>\n",
              "      <td>-0.006218</td>\n",
              "    </tr>\n",
              "    <tr>\n",
              "      <th>1</th>\n",
              "      <td>1342067</td>\n",
              "      <td>CL0101EN</td>\n",
              "      <td>3.0</td>\n",
              "      <td>0.068047</td>\n",
              "      <td>-0.112781</td>\n",
              "      <td>0.045208</td>\n",
              "      <td>-0.007570</td>\n",
              "      <td>-0.038382</td>\n",
              "      <td>0.068037</td>\n",
              "      <td>0.114949</td>\n",
              "      <td>...</td>\n",
              "      <td>0.010899</td>\n",
              "      <td>-0.037610</td>\n",
              "      <td>-0.019397</td>\n",
              "      <td>-0.025682</td>\n",
              "      <td>-0.000620</td>\n",
              "      <td>0.038803</td>\n",
              "      <td>0.000196</td>\n",
              "      <td>-0.045343</td>\n",
              "      <td>0.012863</td>\n",
              "      <td>0.019429</td>\n",
              "    </tr>\n",
              "    <tr>\n",
              "      <th>2</th>\n",
              "      <td>1990814</td>\n",
              "      <td>ML0120ENv3</td>\n",
              "      <td>3.0</td>\n",
              "      <td>0.124623</td>\n",
              "      <td>0.012910</td>\n",
              "      <td>-0.072627</td>\n",
              "      <td>0.049935</td>\n",
              "      <td>0.020158</td>\n",
              "      <td>0.133306</td>\n",
              "      <td>-0.035366</td>\n",
              "      <td>...</td>\n",
              "      <td>-0.012695</td>\n",
              "      <td>0.036138</td>\n",
              "      <td>0.019965</td>\n",
              "      <td>0.018686</td>\n",
              "      <td>-0.010450</td>\n",
              "      <td>-0.050011</td>\n",
              "      <td>0.013845</td>\n",
              "      <td>-0.044454</td>\n",
              "      <td>-0.001480</td>\n",
              "      <td>-0.007559</td>\n",
              "    </tr>\n",
              "    <tr>\n",
              "      <th>3</th>\n",
              "      <td>380098</td>\n",
              "      <td>BD0211EN</td>\n",
              "      <td>3.0</td>\n",
              "      <td>-0.034870</td>\n",
              "      <td>0.000715</td>\n",
              "      <td>0.077406</td>\n",
              "      <td>0.070311</td>\n",
              "      <td>-0.043007</td>\n",
              "      <td>-0.035446</td>\n",
              "      <td>0.032846</td>\n",
              "      <td>...</td>\n",
              "      <td>-0.005700</td>\n",
              "      <td>-0.006068</td>\n",
              "      <td>-0.005792</td>\n",
              "      <td>-0.023036</td>\n",
              "      <td>0.015999</td>\n",
              "      <td>-0.023480</td>\n",
              "      <td>0.015469</td>\n",
              "      <td>0.022221</td>\n",
              "      <td>-0.023115</td>\n",
              "      <td>-0.001785</td>\n",
              "    </tr>\n",
              "    <tr>\n",
              "      <th>4</th>\n",
              "      <td>779563</td>\n",
              "      <td>DS0101EN</td>\n",
              "      <td>3.0</td>\n",
              "      <td>0.106414</td>\n",
              "      <td>-0.001887</td>\n",
              "      <td>-0.017211</td>\n",
              "      <td>-0.042277</td>\n",
              "      <td>-0.074953</td>\n",
              "      <td>-0.056732</td>\n",
              "      <td>0.074610</td>\n",
              "      <td>...</td>\n",
              "      <td>-0.010015</td>\n",
              "      <td>-0.001514</td>\n",
              "      <td>-0.017598</td>\n",
              "      <td>0.003590</td>\n",
              "      <td>0.016799</td>\n",
              "      <td>0.002732</td>\n",
              "      <td>0.005162</td>\n",
              "      <td>0.015031</td>\n",
              "      <td>-0.000877</td>\n",
              "      <td>-0.021283</td>\n",
              "    </tr>\n",
              "  </tbody>\n",
              "</table>\n",
              "<p>5 rows × 35 columns</p>\n",
              "</div>\n",
              "      <button class=\"colab-df-convert\" onclick=\"convertToInteractive('df-1099ceab-8bc2-4a0b-91b0-1bd8d2772aaf')\"\n",
              "              title=\"Convert this dataframe to an interactive table.\"\n",
              "              style=\"display:none;\">\n",
              "        \n",
              "  <svg xmlns=\"http://www.w3.org/2000/svg\" height=\"24px\"viewBox=\"0 0 24 24\"\n",
              "       width=\"24px\">\n",
              "    <path d=\"M0 0h24v24H0V0z\" fill=\"none\"/>\n",
              "    <path d=\"M18.56 5.44l.94 2.06.94-2.06 2.06-.94-2.06-.94-.94-2.06-.94 2.06-2.06.94zm-11 1L8.5 8.5l.94-2.06 2.06-.94-2.06-.94L8.5 2.5l-.94 2.06-2.06.94zm10 10l.94 2.06.94-2.06 2.06-.94-2.06-.94-.94-2.06-.94 2.06-2.06.94z\"/><path d=\"M17.41 7.96l-1.37-1.37c-.4-.4-.92-.59-1.43-.59-.52 0-1.04.2-1.43.59L10.3 9.45l-7.72 7.72c-.78.78-.78 2.05 0 2.83L4 21.41c.39.39.9.59 1.41.59.51 0 1.02-.2 1.41-.59l7.78-7.78 2.81-2.81c.8-.78.8-2.07 0-2.86zM5.41 20L4 18.59l7.72-7.72 1.47 1.35L5.41 20z\"/>\n",
              "  </svg>\n",
              "      </button>\n",
              "      \n",
              "  <style>\n",
              "    .colab-df-container {\n",
              "      display:flex;\n",
              "      flex-wrap:wrap;\n",
              "      gap: 12px;\n",
              "    }\n",
              "\n",
              "    .colab-df-convert {\n",
              "      background-color: #E8F0FE;\n",
              "      border: none;\n",
              "      border-radius: 50%;\n",
              "      cursor: pointer;\n",
              "      display: none;\n",
              "      fill: #1967D2;\n",
              "      height: 32px;\n",
              "      padding: 0 0 0 0;\n",
              "      width: 32px;\n",
              "    }\n",
              "\n",
              "    .colab-df-convert:hover {\n",
              "      background-color: #E2EBFA;\n",
              "      box-shadow: 0px 1px 2px rgba(60, 64, 67, 0.3), 0px 1px 3px 1px rgba(60, 64, 67, 0.15);\n",
              "      fill: #174EA6;\n",
              "    }\n",
              "\n",
              "    [theme=dark] .colab-df-convert {\n",
              "      background-color: #3B4455;\n",
              "      fill: #D2E3FC;\n",
              "    }\n",
              "\n",
              "    [theme=dark] .colab-df-convert:hover {\n",
              "      background-color: #434B5C;\n",
              "      box-shadow: 0px 1px 3px 1px rgba(0, 0, 0, 0.15);\n",
              "      filter: drop-shadow(0px 1px 2px rgba(0, 0, 0, 0.3));\n",
              "      fill: #FFFFFF;\n",
              "    }\n",
              "  </style>\n",
              "\n",
              "      <script>\n",
              "        const buttonEl =\n",
              "          document.querySelector('#df-1099ceab-8bc2-4a0b-91b0-1bd8d2772aaf button.colab-df-convert');\n",
              "        buttonEl.style.display =\n",
              "          google.colab.kernel.accessAllowed ? 'block' : 'none';\n",
              "\n",
              "        async function convertToInteractive(key) {\n",
              "          const element = document.querySelector('#df-1099ceab-8bc2-4a0b-91b0-1bd8d2772aaf');\n",
              "          const dataTable =\n",
              "            await google.colab.kernel.invokeFunction('convertToInteractive',\n",
              "                                                     [key], {});\n",
              "          if (!dataTable) return;\n",
              "\n",
              "          const docLinkHtml = 'Like what you see? Visit the ' +\n",
              "            '<a target=\"_blank\" href=https://colab.research.google.com/notebooks/data_table.ipynb>data table notebook</a>'\n",
              "            + ' to learn more about interactive tables.';\n",
              "          element.innerHTML = '';\n",
              "          dataTable['output_type'] = 'display_data';\n",
              "          await google.colab.output.renderOutput(dataTable, element);\n",
              "          const docLink = document.createElement('div');\n",
              "          docLink.innerHTML = docLinkHtml;\n",
              "          element.appendChild(docLink);\n",
              "        }\n",
              "      </script>\n",
              "    </div>\n",
              "  </div>\n",
              "  "
            ]
          },
          "metadata": {},
          "execution_count": 40
        }
      ]
    },
    {
      "cell_type": "code",
      "source": [
        "u_features = [f\"UFeature{i}\" for i in range(16)]\n",
        "c_features = [f\"CFeature{i}\" for i in range (16)]\n",
        "\n",
        "user_embeddings = merged_df[u_features]\n",
        "course_embeddings = merged_df[c_features]\n",
        "ratings = merged_df['rating']\n",
        "\n",
        "# Aggregate the two feature column using element-wise add\n",
        "regression_dataset = user_embeddings + course_embeddings.values\n",
        "\n",
        "regression_dataset.columns = [f\"Feature{i}\" for i in range(16)]\n",
        "regression_dataset['rating'] = ratings\n",
        "regression_dataset.head()\n"
      ],
      "metadata": {
        "colab": {
          "base_uri": "https://localhost:8080/",
          "height": 206
        },
        "id": "1IKRWrmRpc5f",
        "outputId": "7805a24e-fc45-4711-8a31-c47b79d0c289"
      },
      "execution_count": 41,
      "outputs": [
        {
          "output_type": "execute_result",
          "data": {
            "text/plain": [
              "   Feature0  Feature1  Feature2  Feature3  Feature4  Feature5  Feature6  \\\n",
              "0  0.090378 -0.134799  0.083900  0.046534  0.077417 -0.004537 -0.018561   \n",
              "1  0.059437 -0.084740  0.067107 -0.009036 -0.031482  0.050057  0.125847   \n",
              "2  0.152061 -0.014739 -0.080112 -0.009516  0.024130  0.153802 -0.048061   \n",
              "3 -0.014707 -0.011257  0.073692  0.054763 -0.050547 -0.020599  0.027146   \n",
              "4  0.112812 -0.001395 -0.011572 -0.032638 -0.080440 -0.057321  0.064595   \n",
              "\n",
              "   Feature7  Feature8  Feature9  Feature10  Feature11  Feature12  Feature13  \\\n",
              "0  0.079236 -0.024561  0.027359  -0.188823  -0.080762   0.050271  -0.066013   \n",
              "1  0.066517 -0.053798 -0.021671   0.064212   0.204660  -0.004188   0.007914   \n",
              "2 -0.119888  0.059234  0.060882   0.004244  -0.166000   0.045002   0.057566   \n",
              "3 -0.067012  0.106593 -0.020921   0.106658  -0.092025   0.024436   0.086183   \n",
              "4 -0.020880 -0.048939  0.068486  -0.031359  -0.044577  -0.002381   0.025505   \n",
              "\n",
              "   Feature14  Feature15  rating  \n",
              "0   0.058894  -0.007689     3.0  \n",
              "1   0.027170   0.076114     3.0  \n",
              "2  -0.022081   0.108929     3.0  \n",
              "3   0.029232   0.016287     3.0  \n",
              "4  -0.033164  -0.105266     3.0  "
            ],
            "text/html": [
              "\n",
              "  <div id=\"df-e124d772-7fbc-4f1e-87f7-fcbb4fdf31c2\">\n",
              "    <div class=\"colab-df-container\">\n",
              "      <div>\n",
              "<style scoped>\n",
              "    .dataframe tbody tr th:only-of-type {\n",
              "        vertical-align: middle;\n",
              "    }\n",
              "\n",
              "    .dataframe tbody tr th {\n",
              "        vertical-align: top;\n",
              "    }\n",
              "\n",
              "    .dataframe thead th {\n",
              "        text-align: right;\n",
              "    }\n",
              "</style>\n",
              "<table border=\"1\" class=\"dataframe\">\n",
              "  <thead>\n",
              "    <tr style=\"text-align: right;\">\n",
              "      <th></th>\n",
              "      <th>Feature0</th>\n",
              "      <th>Feature1</th>\n",
              "      <th>Feature2</th>\n",
              "      <th>Feature3</th>\n",
              "      <th>Feature4</th>\n",
              "      <th>Feature5</th>\n",
              "      <th>Feature6</th>\n",
              "      <th>Feature7</th>\n",
              "      <th>Feature8</th>\n",
              "      <th>Feature9</th>\n",
              "      <th>Feature10</th>\n",
              "      <th>Feature11</th>\n",
              "      <th>Feature12</th>\n",
              "      <th>Feature13</th>\n",
              "      <th>Feature14</th>\n",
              "      <th>Feature15</th>\n",
              "      <th>rating</th>\n",
              "    </tr>\n",
              "  </thead>\n",
              "  <tbody>\n",
              "    <tr>\n",
              "      <th>0</th>\n",
              "      <td>0.090378</td>\n",
              "      <td>-0.134799</td>\n",
              "      <td>0.083900</td>\n",
              "      <td>0.046534</td>\n",
              "      <td>0.077417</td>\n",
              "      <td>-0.004537</td>\n",
              "      <td>-0.018561</td>\n",
              "      <td>0.079236</td>\n",
              "      <td>-0.024561</td>\n",
              "      <td>0.027359</td>\n",
              "      <td>-0.188823</td>\n",
              "      <td>-0.080762</td>\n",
              "      <td>0.050271</td>\n",
              "      <td>-0.066013</td>\n",
              "      <td>0.058894</td>\n",
              "      <td>-0.007689</td>\n",
              "      <td>3.0</td>\n",
              "    </tr>\n",
              "    <tr>\n",
              "      <th>1</th>\n",
              "      <td>0.059437</td>\n",
              "      <td>-0.084740</td>\n",
              "      <td>0.067107</td>\n",
              "      <td>-0.009036</td>\n",
              "      <td>-0.031482</td>\n",
              "      <td>0.050057</td>\n",
              "      <td>0.125847</td>\n",
              "      <td>0.066517</td>\n",
              "      <td>-0.053798</td>\n",
              "      <td>-0.021671</td>\n",
              "      <td>0.064212</td>\n",
              "      <td>0.204660</td>\n",
              "      <td>-0.004188</td>\n",
              "      <td>0.007914</td>\n",
              "      <td>0.027170</td>\n",
              "      <td>0.076114</td>\n",
              "      <td>3.0</td>\n",
              "    </tr>\n",
              "    <tr>\n",
              "      <th>2</th>\n",
              "      <td>0.152061</td>\n",
              "      <td>-0.014739</td>\n",
              "      <td>-0.080112</td>\n",
              "      <td>-0.009516</td>\n",
              "      <td>0.024130</td>\n",
              "      <td>0.153802</td>\n",
              "      <td>-0.048061</td>\n",
              "      <td>-0.119888</td>\n",
              "      <td>0.059234</td>\n",
              "      <td>0.060882</td>\n",
              "      <td>0.004244</td>\n",
              "      <td>-0.166000</td>\n",
              "      <td>0.045002</td>\n",
              "      <td>0.057566</td>\n",
              "      <td>-0.022081</td>\n",
              "      <td>0.108929</td>\n",
              "      <td>3.0</td>\n",
              "    </tr>\n",
              "    <tr>\n",
              "      <th>3</th>\n",
              "      <td>-0.014707</td>\n",
              "      <td>-0.011257</td>\n",
              "      <td>0.073692</td>\n",
              "      <td>0.054763</td>\n",
              "      <td>-0.050547</td>\n",
              "      <td>-0.020599</td>\n",
              "      <td>0.027146</td>\n",
              "      <td>-0.067012</td>\n",
              "      <td>0.106593</td>\n",
              "      <td>-0.020921</td>\n",
              "      <td>0.106658</td>\n",
              "      <td>-0.092025</td>\n",
              "      <td>0.024436</td>\n",
              "      <td>0.086183</td>\n",
              "      <td>0.029232</td>\n",
              "      <td>0.016287</td>\n",
              "      <td>3.0</td>\n",
              "    </tr>\n",
              "    <tr>\n",
              "      <th>4</th>\n",
              "      <td>0.112812</td>\n",
              "      <td>-0.001395</td>\n",
              "      <td>-0.011572</td>\n",
              "      <td>-0.032638</td>\n",
              "      <td>-0.080440</td>\n",
              "      <td>-0.057321</td>\n",
              "      <td>0.064595</td>\n",
              "      <td>-0.020880</td>\n",
              "      <td>-0.048939</td>\n",
              "      <td>0.068486</td>\n",
              "      <td>-0.031359</td>\n",
              "      <td>-0.044577</td>\n",
              "      <td>-0.002381</td>\n",
              "      <td>0.025505</td>\n",
              "      <td>-0.033164</td>\n",
              "      <td>-0.105266</td>\n",
              "      <td>3.0</td>\n",
              "    </tr>\n",
              "  </tbody>\n",
              "</table>\n",
              "</div>\n",
              "      <button class=\"colab-df-convert\" onclick=\"convertToInteractive('df-e124d772-7fbc-4f1e-87f7-fcbb4fdf31c2')\"\n",
              "              title=\"Convert this dataframe to an interactive table.\"\n",
              "              style=\"display:none;\">\n",
              "        \n",
              "  <svg xmlns=\"http://www.w3.org/2000/svg\" height=\"24px\"viewBox=\"0 0 24 24\"\n",
              "       width=\"24px\">\n",
              "    <path d=\"M0 0h24v24H0V0z\" fill=\"none\"/>\n",
              "    <path d=\"M18.56 5.44l.94 2.06.94-2.06 2.06-.94-2.06-.94-.94-2.06-.94 2.06-2.06.94zm-11 1L8.5 8.5l.94-2.06 2.06-.94-2.06-.94L8.5 2.5l-.94 2.06-2.06.94zm10 10l.94 2.06.94-2.06 2.06-.94-2.06-.94-.94-2.06-.94 2.06-2.06.94z\"/><path d=\"M17.41 7.96l-1.37-1.37c-.4-.4-.92-.59-1.43-.59-.52 0-1.04.2-1.43.59L10.3 9.45l-7.72 7.72c-.78.78-.78 2.05 0 2.83L4 21.41c.39.39.9.59 1.41.59.51 0 1.02-.2 1.41-.59l7.78-7.78 2.81-2.81c.8-.78.8-2.07 0-2.86zM5.41 20L4 18.59l7.72-7.72 1.47 1.35L5.41 20z\"/>\n",
              "  </svg>\n",
              "      </button>\n",
              "      \n",
              "  <style>\n",
              "    .colab-df-container {\n",
              "      display:flex;\n",
              "      flex-wrap:wrap;\n",
              "      gap: 12px;\n",
              "    }\n",
              "\n",
              "    .colab-df-convert {\n",
              "      background-color: #E8F0FE;\n",
              "      border: none;\n",
              "      border-radius: 50%;\n",
              "      cursor: pointer;\n",
              "      display: none;\n",
              "      fill: #1967D2;\n",
              "      height: 32px;\n",
              "      padding: 0 0 0 0;\n",
              "      width: 32px;\n",
              "    }\n",
              "\n",
              "    .colab-df-convert:hover {\n",
              "      background-color: #E2EBFA;\n",
              "      box-shadow: 0px 1px 2px rgba(60, 64, 67, 0.3), 0px 1px 3px 1px rgba(60, 64, 67, 0.15);\n",
              "      fill: #174EA6;\n",
              "    }\n",
              "\n",
              "    [theme=dark] .colab-df-convert {\n",
              "      background-color: #3B4455;\n",
              "      fill: #D2E3FC;\n",
              "    }\n",
              "\n",
              "    [theme=dark] .colab-df-convert:hover {\n",
              "      background-color: #434B5C;\n",
              "      box-shadow: 0px 1px 3px 1px rgba(0, 0, 0, 0.15);\n",
              "      filter: drop-shadow(0px 1px 2px rgba(0, 0, 0, 0.3));\n",
              "      fill: #FFFFFF;\n",
              "    }\n",
              "  </style>\n",
              "\n",
              "      <script>\n",
              "        const buttonEl =\n",
              "          document.querySelector('#df-e124d772-7fbc-4f1e-87f7-fcbb4fdf31c2 button.colab-df-convert');\n",
              "        buttonEl.style.display =\n",
              "          google.colab.kernel.accessAllowed ? 'block' : 'none';\n",
              "\n",
              "        async function convertToInteractive(key) {\n",
              "          const element = document.querySelector('#df-e124d772-7fbc-4f1e-87f7-fcbb4fdf31c2');\n",
              "          const dataTable =\n",
              "            await google.colab.kernel.invokeFunction('convertToInteractive',\n",
              "                                                     [key], {});\n",
              "          if (!dataTable) return;\n",
              "\n",
              "          const docLinkHtml = 'Like what you see? Visit the ' +\n",
              "            '<a target=\"_blank\" href=https://colab.research.google.com/notebooks/data_table.ipynb>data table notebook</a>'\n",
              "            + ' to learn more about interactive tables.';\n",
              "          element.innerHTML = '';\n",
              "          dataTable['output_type'] = 'display_data';\n",
              "          await google.colab.output.renderOutput(dataTable, element);\n",
              "          const docLink = document.createElement('div');\n",
              "          docLink.innerHTML = docLinkHtml;\n",
              "          element.appendChild(docLink);\n",
              "        }\n",
              "      </script>\n",
              "    </div>\n",
              "  </div>\n",
              "  "
            ]
          },
          "metadata": {},
          "execution_count": 41
        }
      ]
    },
    {
      "cell_type": "code",
      "source": [
        "X = regression_dataset.iloc[:, :-1]\n",
        "y = regression_dataset.iloc[:, -1]"
      ],
      "metadata": {
        "id": "vnWRMzY3qWJR"
      },
      "execution_count": 42,
      "outputs": []
    },
    {
      "cell_type": "markdown",
      "source": [
        "# Regression on the interaction dataset"
      ],
      "metadata": {
        "id": "LKACXMsDq177"
      }
    },
    {
      "cell_type": "code",
      "source": [
        "y.unique()"
      ],
      "metadata": {
        "colab": {
          "base_uri": "https://localhost:8080/"
        },
        "id": "MFxj3fudrG0H",
        "outputId": "2d476805-61b7-45e5-cbdc-9ac68c7fddad"
      },
      "execution_count": 43,
      "outputs": [
        {
          "output_type": "execute_result",
          "data": {
            "text/plain": [
              "array([3., 2.])"
            ]
          },
          "metadata": {},
          "execution_count": 43
        }
      ]
    },
    {
      "cell_type": "markdown",
      "source": [
        "Since `2` and `3` corresponds to the audit and completion mode. If the output of the model is closer to 2 we can refer to as `Audit` otherwise `Completion`"
      ],
      "metadata": {
        "id": "Zl4vJyBerJgJ"
      }
    },
    {
      "cell_type": "code",
      "source": [
        "X_train, X_test, y_train, y_test = train_test_split(\n",
        "    X,y, test_size = 0.3, random_state = rs\n",
        ")"
      ],
      "metadata": {
        "id": "rtl7ZpsRreCr"
      },
      "execution_count": 44,
      "outputs": []
    },
    {
      "cell_type": "markdown",
      "source": [
        "## Experiment 0: Linear Regression"
      ],
      "metadata": {
        "id": "AEEGtA-07suH"
      }
    },
    {
      "cell_type": "code",
      "source": [
        "import numpy as np\n",
        "# Define model\n",
        "model = linear_model.LinearRegression()\n",
        "# Train the model\n",
        "model.fit(X_train, y_train)\n",
        "# Evaluate the model\n",
        "preds = model.predict(X_test)\n",
        "mse = mean_squared_error(y_test, preds)\n",
        "rmse = np.sqrt(mse)\n",
        "\n",
        "print(f\"The root mean squared error is {np.round(rmse,4)}\")"
      ],
      "metadata": {
        "colab": {
          "base_uri": "https://localhost:8080/"
        },
        "id": "CugjsNwgsQsk",
        "outputId": "96b8ec8d-c35c-4cf4-8db0-9235ab686139"
      },
      "execution_count": 72,
      "outputs": [
        {
          "output_type": "stream",
          "name": "stdout",
          "text": [
            "The root mean squared error is 0.2097\n"
          ]
        }
      ]
    },
    {
      "cell_type": "markdown",
      "source": [
        "## Experiments:\n",
        " * Ridge Regression \n",
        " * Lasso Regression"
      ],
      "metadata": {
        "id": "S7gKv-ATsXmo"
      }
    },
    {
      "cell_type": "code",
      "source": [
        "from sklearn.model_selection import GridSearchCV"
      ],
      "metadata": {
        "id": "9hSfODO77keh"
      },
      "execution_count": 69,
      "outputs": []
    },
    {
      "cell_type": "markdown",
      "source": [
        "## Experiment 1: Ridge Regression"
      ],
      "metadata": {
        "id": "bi_-5N1a7qYz"
      }
    },
    {
      "cell_type": "code",
      "source": [
        "alpha = list(range(1,10))\n",
        "alpha"
      ],
      "metadata": {
        "colab": {
          "base_uri": "https://localhost:8080/"
        },
        "id": "9wN-3tzb-eHV",
        "outputId": "d325dcbe-1c78-424a-cb13-98da8755f30d"
      },
      "execution_count": 59,
      "outputs": [
        {
          "output_type": "execute_result",
          "data": {
            "text/plain": [
              "[1, 2, 3, 4, 5, 6, 7, 8, 9]"
            ]
          },
          "metadata": {},
          "execution_count": 59
        }
      ]
    },
    {
      "cell_type": "code",
      "source": [
        "# Define model\n",
        "model = linear_model.Ridge()\n",
        "param_grid = {\"alpha\": alpha}\n",
        "grid_model = GridSearchCV(model, param_grid = param_grid,cv=5,scoring='neg_mean_squared_error')\n",
        "grid_model.fit(X_train, y_train)"
      ],
      "metadata": {
        "id": "0iWCZbXntZqu",
        "colab": {
          "base_uri": "https://localhost:8080/"
        },
        "outputId": "cadbfac8-d5ac-4ac1-9474-66b8facbd253"
      },
      "execution_count": 60,
      "outputs": [
        {
          "output_type": "execute_result",
          "data": {
            "text/plain": [
              "GridSearchCV(cv=5, estimator=Ridge(),\n",
              "             param_grid={'alpha': [1, 2, 3, 4, 5, 6, 7, 8, 9]},\n",
              "             scoring='neg_mean_squared_error')"
            ]
          },
          "metadata": {},
          "execution_count": 60
        }
      ]
    },
    {
      "cell_type": "code",
      "source": [
        "grid_model.best_params_"
      ],
      "metadata": {
        "colab": {
          "base_uri": "https://localhost:8080/"
        },
        "id": "zoQ4vrHP8yPn",
        "outputId": "b8cb8ed1-a778-41ad-9ddd-c2085d0c9b4b"
      },
      "execution_count": 61,
      "outputs": [
        {
          "output_type": "execute_result",
          "data": {
            "text/plain": [
              "{'alpha': 6}"
            ]
          },
          "metadata": {},
          "execution_count": 61
        }
      ]
    },
    {
      "cell_type": "code",
      "source": [
        "ridge_model = linear_model.Ridge(alpha = 6)\n",
        "ridge_model.fit(X_train, y_train)\n",
        "preds = ridge_model.predict(X_test)\n",
        "rmse = np.sqrt(mean_squared_error(y_test, preds))\n",
        "print(f\"The rmse score is {np.round(rmse,4)}\")"
      ],
      "metadata": {
        "colab": {
          "base_uri": "https://localhost:8080/"
        },
        "id": "N0HEkH0e9gbA",
        "outputId": "c7b9d326-a074-490d-ae0a-0eefc8d609c8"
      },
      "execution_count": 71,
      "outputs": [
        {
          "output_type": "stream",
          "name": "stdout",
          "text": [
            "The rmse score is 0.2097\n"
          ]
        }
      ]
    },
    {
      "cell_type": "markdown",
      "source": [
        "## Experiment 1: Lasso Regression"
      ],
      "metadata": {
        "id": "xU3PlsoG948l"
      }
    },
    {
      "cell_type": "code",
      "source": [
        "# Define model\n",
        "model = linear_model.Lasso()\n",
        "param_grid = {\"alpha\": alpha}\n",
        "grid_model = GridSearchCV(model, param_grid = param_grid,cv=5,scoring='neg_mean_squared_error')\n",
        "grid_model.fit(X_train, y_train)"
      ],
      "metadata": {
        "colab": {
          "base_uri": "https://localhost:8080/"
        },
        "id": "qlDpzxzo-GOP",
        "outputId": "c875aae2-5898-46b2-a65f-f5968048da3f"
      },
      "execution_count": 63,
      "outputs": [
        {
          "output_type": "execute_result",
          "data": {
            "text/plain": [
              "GridSearchCV(cv=5, estimator=Lasso(),\n",
              "             param_grid={'alpha': [1, 2, 3, 4, 5, 6, 7, 8, 9]},\n",
              "             scoring='neg_mean_squared_error')"
            ]
          },
          "metadata": {},
          "execution_count": 63
        }
      ]
    },
    {
      "cell_type": "code",
      "source": [
        "grid_model.best_params_"
      ],
      "metadata": {
        "colab": {
          "base_uri": "https://localhost:8080/"
        },
        "id": "L2G-fKE_-n37",
        "outputId": "76c5ddd3-cdfa-4233-fe41-2ed01b1c1170"
      },
      "execution_count": 64,
      "outputs": [
        {
          "output_type": "execute_result",
          "data": {
            "text/plain": [
              "{'alpha': 1}"
            ]
          },
          "metadata": {},
          "execution_count": 64
        }
      ]
    },
    {
      "cell_type": "code",
      "source": [
        "lasso_model = linear_model.Lasso(alpha = 1)\n",
        "lasso_model.fit(X_train, y_train)\n",
        "preds = lasso_model.predict(X_test)\n",
        "rmse = np.sqrt(mean_squared_error(y_test, preds))\n",
        "print(f\"The rmse score is {np.round(rmse,5)}\")"
      ],
      "metadata": {
        "colab": {
          "base_uri": "https://localhost:8080/"
        },
        "id": "E6NUaeWW-rHm",
        "outputId": "c49ec29c-a0f2-4660-e4ec-588773c632df"
      },
      "execution_count": 70,
      "outputs": [
        {
          "output_type": "stream",
          "name": "stdout",
          "text": [
            "The rmse score is 0.21036\n"
          ]
        }
      ]
    },
    {
      "cell_type": "markdown",
      "source": [
        "# Conclusion\n",
        "It seems that adding regularization almost had no effect but `Lasso Regression` have a litte edge among the experiments."
      ],
      "metadata": {
        "id": "0gLvCu5h_ZK5"
      }
    },
    {
      "cell_type": "code",
      "source": [],
      "metadata": {
        "id": "v05_0hw3AOT-"
      },
      "execution_count": null,
      "outputs": []
    }
  ]
}