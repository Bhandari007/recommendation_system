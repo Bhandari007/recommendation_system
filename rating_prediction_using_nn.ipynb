{
  "nbformat": 4,
  "nbformat_minor": 0,
  "metadata": {
    "colab": {
      "provenance": [],
      "collapsed_sections": [],
      "authorship_tag": "ABX9TyOT6KS0TY1XRWPFcBwI1T1v",
      "include_colab_link": true
    },
    "kernelspec": {
      "name": "python3",
      "display_name": "Python 3"
    },
    "language_info": {
      "name": "python"
    }
  },
  "cells": [
    {
      "cell_type": "markdown",
      "metadata": {
        "id": "view-in-github",
        "colab_type": "text"
      },
      "source": [
        "<a href=\"https://colab.research.google.com/github/Bhandari007/recommendation_system/blob/main/rating_prediction_using_nn.ipynb\" target=\"_parent\"><img src=\"https://colab.research.google.com/assets/colab-badge.svg\" alt=\"Open In Colab\"/></a>"
      ]
    },
    {
      "cell_type": "markdown",
      "source": [
        "# Course Rating Prediction Using Neural Network\n",
        "\n",
        "Neural Networks can be used to extract the latent user and item features. They are very good at learning patterns from data. When training nerual networks, it gradually captures and stores the features within its hidden layers as weight matrices and can be extracted to represent the original data.\n",
        "\n",
        "### Objectives:\n",
        "\n",
        "* Use `tensorflow` to train neural networks to extract the user and item latent features from the hidden layers\n",
        "\n",
        "* Predict course ratings with trained neural networks"
      ],
      "metadata": {
        "id": "xtS3RIojhbma"
      }
    },
    {
      "cell_type": "markdown",
      "source": [
        "# Packages"
      ],
      "metadata": {
        "id": "FO_K1jlAh49k"
      }
    },
    {
      "cell_type": "code",
      "source": [
        "import pandas as pd\n",
        "import tensorflow as tf\n",
        "import matplotlib.pyplot as plt\n",
        "\n",
        "from tensorflow import keras\n",
        "from tensorflow.keras import layers"
      ],
      "metadata": {
        "id": "2HbkMLfviKNk"
      },
      "execution_count": 1,
      "outputs": []
    },
    {
      "cell_type": "code",
      "source": [
        "# Set random state\n",
        "rs = 123"
      ],
      "metadata": {
        "id": "6JSitbuGiTKn"
      },
      "execution_count": 2,
      "outputs": []
    },
    {
      "cell_type": "markdown",
      "source": [
        "# Loading and preprocessing dataset"
      ],
      "metadata": {
        "id": "VcJf0afBicEu"
      }
    },
    {
      "cell_type": "code",
      "source": [
        "rating_url = \"https://cf-courses-data.s3.us.cloud-object-storage.appdomain.cloud/IBM-ML321EN-SkillsNetwork/labs/datasets/ratings.csv\"\n",
        "rating_df = pd.read_csv(rating_url)\n",
        "rating_df.head()"
      ],
      "metadata": {
        "colab": {
          "base_uri": "https://localhost:8080/",
          "height": 206
        },
        "id": "rP6UF8vZigRJ",
        "outputId": "0cf109ab-e76c-4be4-be81-e2bcd50d38bd"
      },
      "execution_count": 3,
      "outputs": [
        {
          "output_type": "execute_result",
          "data": {
            "text/plain": [
              "      user        item  rating\n",
              "0  1889878    CC0101EN     3.0\n",
              "1  1342067    CL0101EN     3.0\n",
              "2  1990814  ML0120ENv3     3.0\n",
              "3   380098    BD0211EN     3.0\n",
              "4   779563    DS0101EN     3.0"
            ],
            "text/html": [
              "\n",
              "  <div id=\"df-27d7a4e5-9587-4e38-b7ea-0de7683960af\">\n",
              "    <div class=\"colab-df-container\">\n",
              "      <div>\n",
              "<style scoped>\n",
              "    .dataframe tbody tr th:only-of-type {\n",
              "        vertical-align: middle;\n",
              "    }\n",
              "\n",
              "    .dataframe tbody tr th {\n",
              "        vertical-align: top;\n",
              "    }\n",
              "\n",
              "    .dataframe thead th {\n",
              "        text-align: right;\n",
              "    }\n",
              "</style>\n",
              "<table border=\"1\" class=\"dataframe\">\n",
              "  <thead>\n",
              "    <tr style=\"text-align: right;\">\n",
              "      <th></th>\n",
              "      <th>user</th>\n",
              "      <th>item</th>\n",
              "      <th>rating</th>\n",
              "    </tr>\n",
              "  </thead>\n",
              "  <tbody>\n",
              "    <tr>\n",
              "      <th>0</th>\n",
              "      <td>1889878</td>\n",
              "      <td>CC0101EN</td>\n",
              "      <td>3.0</td>\n",
              "    </tr>\n",
              "    <tr>\n",
              "      <th>1</th>\n",
              "      <td>1342067</td>\n",
              "      <td>CL0101EN</td>\n",
              "      <td>3.0</td>\n",
              "    </tr>\n",
              "    <tr>\n",
              "      <th>2</th>\n",
              "      <td>1990814</td>\n",
              "      <td>ML0120ENv3</td>\n",
              "      <td>3.0</td>\n",
              "    </tr>\n",
              "    <tr>\n",
              "      <th>3</th>\n",
              "      <td>380098</td>\n",
              "      <td>BD0211EN</td>\n",
              "      <td>3.0</td>\n",
              "    </tr>\n",
              "    <tr>\n",
              "      <th>4</th>\n",
              "      <td>779563</td>\n",
              "      <td>DS0101EN</td>\n",
              "      <td>3.0</td>\n",
              "    </tr>\n",
              "  </tbody>\n",
              "</table>\n",
              "</div>\n",
              "      <button class=\"colab-df-convert\" onclick=\"convertToInteractive('df-27d7a4e5-9587-4e38-b7ea-0de7683960af')\"\n",
              "              title=\"Convert this dataframe to an interactive table.\"\n",
              "              style=\"display:none;\">\n",
              "        \n",
              "  <svg xmlns=\"http://www.w3.org/2000/svg\" height=\"24px\"viewBox=\"0 0 24 24\"\n",
              "       width=\"24px\">\n",
              "    <path d=\"M0 0h24v24H0V0z\" fill=\"none\"/>\n",
              "    <path d=\"M18.56 5.44l.94 2.06.94-2.06 2.06-.94-2.06-.94-.94-2.06-.94 2.06-2.06.94zm-11 1L8.5 8.5l.94-2.06 2.06-.94-2.06-.94L8.5 2.5l-.94 2.06-2.06.94zm10 10l.94 2.06.94-2.06 2.06-.94-2.06-.94-.94-2.06-.94 2.06-2.06.94z\"/><path d=\"M17.41 7.96l-1.37-1.37c-.4-.4-.92-.59-1.43-.59-.52 0-1.04.2-1.43.59L10.3 9.45l-7.72 7.72c-.78.78-.78 2.05 0 2.83L4 21.41c.39.39.9.59 1.41.59.51 0 1.02-.2 1.41-.59l7.78-7.78 2.81-2.81c.8-.78.8-2.07 0-2.86zM5.41 20L4 18.59l7.72-7.72 1.47 1.35L5.41 20z\"/>\n",
              "  </svg>\n",
              "      </button>\n",
              "      \n",
              "  <style>\n",
              "    .colab-df-container {\n",
              "      display:flex;\n",
              "      flex-wrap:wrap;\n",
              "      gap: 12px;\n",
              "    }\n",
              "\n",
              "    .colab-df-convert {\n",
              "      background-color: #E8F0FE;\n",
              "      border: none;\n",
              "      border-radius: 50%;\n",
              "      cursor: pointer;\n",
              "      display: none;\n",
              "      fill: #1967D2;\n",
              "      height: 32px;\n",
              "      padding: 0 0 0 0;\n",
              "      width: 32px;\n",
              "    }\n",
              "\n",
              "    .colab-df-convert:hover {\n",
              "      background-color: #E2EBFA;\n",
              "      box-shadow: 0px 1px 2px rgba(60, 64, 67, 0.3), 0px 1px 3px 1px rgba(60, 64, 67, 0.15);\n",
              "      fill: #174EA6;\n",
              "    }\n",
              "\n",
              "    [theme=dark] .colab-df-convert {\n",
              "      background-color: #3B4455;\n",
              "      fill: #D2E3FC;\n",
              "    }\n",
              "\n",
              "    [theme=dark] .colab-df-convert:hover {\n",
              "      background-color: #434B5C;\n",
              "      box-shadow: 0px 1px 3px 1px rgba(0, 0, 0, 0.15);\n",
              "      filter: drop-shadow(0px 1px 2px rgba(0, 0, 0, 0.3));\n",
              "      fill: #FFFFFF;\n",
              "    }\n",
              "  </style>\n",
              "\n",
              "      <script>\n",
              "        const buttonEl =\n",
              "          document.querySelector('#df-27d7a4e5-9587-4e38-b7ea-0de7683960af button.colab-df-convert');\n",
              "        buttonEl.style.display =\n",
              "          google.colab.kernel.accessAllowed ? 'block' : 'none';\n",
              "\n",
              "        async function convertToInteractive(key) {\n",
              "          const element = document.querySelector('#df-27d7a4e5-9587-4e38-b7ea-0de7683960af');\n",
              "          const dataTable =\n",
              "            await google.colab.kernel.invokeFunction('convertToInteractive',\n",
              "                                                     [key], {});\n",
              "          if (!dataTable) return;\n",
              "\n",
              "          const docLinkHtml = 'Like what you see? Visit the ' +\n",
              "            '<a target=\"_blank\" href=https://colab.research.google.com/notebooks/data_table.ipynb>data table notebook</a>'\n",
              "            + ' to learn more about interactive tables.';\n",
              "          element.innerHTML = '';\n",
              "          dataTable['output_type'] = 'display_data';\n",
              "          await google.colab.output.renderOutput(dataTable, element);\n",
              "          const docLink = document.createElement('div');\n",
              "          docLink.innerHTML = docLinkHtml;\n",
              "          element.appendChild(docLink);\n",
              "        }\n",
              "      </script>\n",
              "    </div>\n",
              "  </div>\n",
              "  "
            ]
          },
          "metadata": {},
          "execution_count": 3
        }
      ]
    },
    {
      "cell_type": "markdown",
      "source": [
        "We have three columns: `user`, `item` and `rating`"
      ],
      "metadata": {
        "id": "ufW-gQvuihr6"
      }
    },
    {
      "cell_type": "code",
      "source": [
        "num_users = len(rating_df['user'].unique())\n",
        "num_items = len(rating_df['item'].unique())\n",
        "print(f\"There are total `{num_users}` of users and `{num_items}` items\")"
      ],
      "metadata": {
        "colab": {
          "base_uri": "https://localhost:8080/"
        },
        "id": "_tROqc-pio3H",
        "outputId": "9c6739ca-ba5f-48de-91af-d2ae941d618c"
      },
      "execution_count": 4,
      "outputs": [
        {
          "output_type": "stream",
          "name": "stdout",
          "text": [
            "There are total `33901` of users and `126` items\n"
          ]
        }
      ]
    },
    {
      "cell_type": "markdown",
      "source": [
        "It means our each user can be represented as `33901x1` one-hot vector and each item can be represented as `126x1` one-hot vector"
      ],
      "metadata": {
        "id": "jKQo_v0eiu2R"
      }
    },
    {
      "cell_type": "markdown",
      "source": [
        "# Implementing the recommender neural network using tensorflow"
      ],
      "metadata": {
        "id": "toD0BptCjAs-"
      }
    },
    {
      "cell_type": "code",
      "source": [
        "class RecommenderNet(keras.Model):\n",
        "\n",
        "\n",
        "  \n",
        "  def __init__(self, num_user, num_items, embedding_size = 16, **kwargs):\n",
        "    \"\"\"\n",
        "    Constructor\n",
        "      :param int num_users: number of users\n",
        "      :param int num_items: number of items\n",
        "      :param int embedding_size: the size of embedding_vector\n",
        "\n",
        "    \"\"\"\n",
        "    super(RecommenderNet, self).__init__(**kwargs)\n",
        "    self.num_users = num_users\n",
        "    self.num_items = num_items\n",
        "    self.embedding_size = embedding_size\n",
        "\n",
        "    self.user_embedding_layer = layers.Embedding(\n",
        "        input_dim = num_users,\n",
        "        output_dim = embedding_size,\n",
        "        name = 'user_embedding_layer',\n",
        "        embeddings_initializer = \"he_normal\",\n",
        "        embeddings_regularizer = keras.regularizers.l2(1e-6)\n",
        "    )\n",
        "\n",
        "    self.user_bias = layers.Embedding(\n",
        "        input_dim = num_users,\n",
        "        output_dim = 1,\n",
        "        name = 'user_bias'\n",
        "    )\n",
        "    # Define an item_embedding vector\n",
        "        # Input dimension is the num_items\n",
        "        # Output dimension is the embedding size\n",
        "    self.item_embedding_layer = layers.Embedding(\n",
        "            input_dim=num_items,\n",
        "            output_dim=embedding_size,\n",
        "            name='item_embedding_layer',\n",
        "            embeddings_initializer=\"he_normal\",\n",
        "            embeddings_regularizer=keras.regularizers.l2(1e-6),\n",
        "        )\n",
        "        # Define an item bias layer\n",
        "    self.item_bias = layers.Embedding(\n",
        "            input_dim=num_items,\n",
        "            output_dim=1,\n",
        "            name=\"item_bias\")\n",
        "  def call(self, inputs):\n",
        "    \"\"\"\n",
        "    method to be called during model fitting        \n",
        "    :param inputs: user and item one-hot vectors\n",
        "    \"\"\"\n",
        "    # Compute the user embedding vector\n",
        "    user_vector = self.user_embedding_layer(inputs[:, 0])\n",
        "    user_bias = self.user_bias(inputs[:, 0])\n",
        "    item_vector = self.item_embedding_layer(inputs[:, 1])\n",
        "    item_bias = self.item_bias(inputs[:, 1])\n",
        "    dot_user_item = tf.tensordot(user_vector, item_vector, 2)\n",
        "    # Add all the components (including bias)\n",
        "    x = dot_user_item + user_bias + item_bias\n",
        "    # Sigmoid output layer to output the probability\n",
        "    return tf.nn.relu(x)\n",
        "        \n",
        "\n"
      ],
      "metadata": {
        "id": "LufUJyEMjPuO"
      },
      "execution_count": 26,
      "outputs": []
    },
    {
      "cell_type": "markdown",
      "source": [
        "## Train and evaluate the RecommendeNet()"
      ],
      "metadata": {
        "id": "jETsTaSvjvaK"
      }
    },
    {
      "cell_type": "markdown",
      "source": [
        "### Creating one-hot encoding vectors"
      ],
      "metadata": {
        "id": "thTXeOeGktVK"
      }
    },
    {
      "cell_type": "code",
      "source": [
        "def process_dataset(raw_data):\n",
        "\n",
        "  encoded_data = raw_data.copy()\n",
        "\n",
        "  # Map use ids to indices\n",
        "  user_list = encoded_data['user'].unique().tolist()\n",
        "  user_id2idx_dict = {x: i for i, x in enumerate(user_list)}\n",
        "  user_idx2id_dict = {i: x for i, x in enumerate(user_list)}\n",
        "\n",
        "  # Map course ids to indices\n",
        "  course_list = encoded_data['item'].unique().tolist()\n",
        "  course_id2idx_dict = {x: i for i, x in enumerate(course_list)}\n",
        "  course_idx2id_dict = {i: x for i, x in enumerate(course_list)}\n",
        "\n",
        "  # Convert original user ids to idx\n",
        "  encoded_data[\"user\"] = encoded_data[\"user\"].map(user_id2idx_dict)\n",
        "  # Conert original course ids to idx\n",
        "  encoded_data[\"item\"] = encoded_data[\"item\"].map(course_id2idx_dict)\n",
        "  # Convert rating into in\n",
        "  encoded_data[\"rating\"] = encoded_data[\"rating\"].values.astype(\"int\")\n",
        "\n",
        "  return encoded_data, user_idx2id_dict, course_idx2id_dict\n",
        "\n"
      ],
      "metadata": {
        "id": "dw-dkhqfaRIC"
      },
      "execution_count": 6,
      "outputs": []
    },
    {
      "cell_type": "code",
      "source": [
        "encoded_data, user_idx2id_dict, course_idx2id_dict = process_dataset(rating_df)"
      ],
      "metadata": {
        "id": "zBJGl_f-baPR"
      },
      "execution_count": 7,
      "outputs": []
    },
    {
      "cell_type": "code",
      "source": [
        "encoded_data.head()"
      ],
      "metadata": {
        "colab": {
          "base_uri": "https://localhost:8080/",
          "height": 206
        },
        "id": "KmIQ1fEebbdI",
        "outputId": "f5708c66-18b7-410e-f38d-8e23136a4e6e"
      },
      "execution_count": 8,
      "outputs": [
        {
          "output_type": "execute_result",
          "data": {
            "text/plain": [
              "   user  item  rating\n",
              "0     0     0       3\n",
              "1     1     1       3\n",
              "2     2     2       3\n",
              "3     3     3       3\n",
              "4     4     4       3"
            ],
            "text/html": [
              "\n",
              "  <div id=\"df-ef4c7369-dc97-4d3a-931e-2b6298c73ae9\">\n",
              "    <div class=\"colab-df-container\">\n",
              "      <div>\n",
              "<style scoped>\n",
              "    .dataframe tbody tr th:only-of-type {\n",
              "        vertical-align: middle;\n",
              "    }\n",
              "\n",
              "    .dataframe tbody tr th {\n",
              "        vertical-align: top;\n",
              "    }\n",
              "\n",
              "    .dataframe thead th {\n",
              "        text-align: right;\n",
              "    }\n",
              "</style>\n",
              "<table border=\"1\" class=\"dataframe\">\n",
              "  <thead>\n",
              "    <tr style=\"text-align: right;\">\n",
              "      <th></th>\n",
              "      <th>user</th>\n",
              "      <th>item</th>\n",
              "      <th>rating</th>\n",
              "    </tr>\n",
              "  </thead>\n",
              "  <tbody>\n",
              "    <tr>\n",
              "      <th>0</th>\n",
              "      <td>0</td>\n",
              "      <td>0</td>\n",
              "      <td>3</td>\n",
              "    </tr>\n",
              "    <tr>\n",
              "      <th>1</th>\n",
              "      <td>1</td>\n",
              "      <td>1</td>\n",
              "      <td>3</td>\n",
              "    </tr>\n",
              "    <tr>\n",
              "      <th>2</th>\n",
              "      <td>2</td>\n",
              "      <td>2</td>\n",
              "      <td>3</td>\n",
              "    </tr>\n",
              "    <tr>\n",
              "      <th>3</th>\n",
              "      <td>3</td>\n",
              "      <td>3</td>\n",
              "      <td>3</td>\n",
              "    </tr>\n",
              "    <tr>\n",
              "      <th>4</th>\n",
              "      <td>4</td>\n",
              "      <td>4</td>\n",
              "      <td>3</td>\n",
              "    </tr>\n",
              "  </tbody>\n",
              "</table>\n",
              "</div>\n",
              "      <button class=\"colab-df-convert\" onclick=\"convertToInteractive('df-ef4c7369-dc97-4d3a-931e-2b6298c73ae9')\"\n",
              "              title=\"Convert this dataframe to an interactive table.\"\n",
              "              style=\"display:none;\">\n",
              "        \n",
              "  <svg xmlns=\"http://www.w3.org/2000/svg\" height=\"24px\"viewBox=\"0 0 24 24\"\n",
              "       width=\"24px\">\n",
              "    <path d=\"M0 0h24v24H0V0z\" fill=\"none\"/>\n",
              "    <path d=\"M18.56 5.44l.94 2.06.94-2.06 2.06-.94-2.06-.94-.94-2.06-.94 2.06-2.06.94zm-11 1L8.5 8.5l.94-2.06 2.06-.94-2.06-.94L8.5 2.5l-.94 2.06-2.06.94zm10 10l.94 2.06.94-2.06 2.06-.94-2.06-.94-.94-2.06-.94 2.06-2.06.94z\"/><path d=\"M17.41 7.96l-1.37-1.37c-.4-.4-.92-.59-1.43-.59-.52 0-1.04.2-1.43.59L10.3 9.45l-7.72 7.72c-.78.78-.78 2.05 0 2.83L4 21.41c.39.39.9.59 1.41.59.51 0 1.02-.2 1.41-.59l7.78-7.78 2.81-2.81c.8-.78.8-2.07 0-2.86zM5.41 20L4 18.59l7.72-7.72 1.47 1.35L5.41 20z\"/>\n",
              "  </svg>\n",
              "      </button>\n",
              "      \n",
              "  <style>\n",
              "    .colab-df-container {\n",
              "      display:flex;\n",
              "      flex-wrap:wrap;\n",
              "      gap: 12px;\n",
              "    }\n",
              "\n",
              "    .colab-df-convert {\n",
              "      background-color: #E8F0FE;\n",
              "      border: none;\n",
              "      border-radius: 50%;\n",
              "      cursor: pointer;\n",
              "      display: none;\n",
              "      fill: #1967D2;\n",
              "      height: 32px;\n",
              "      padding: 0 0 0 0;\n",
              "      width: 32px;\n",
              "    }\n",
              "\n",
              "    .colab-df-convert:hover {\n",
              "      background-color: #E2EBFA;\n",
              "      box-shadow: 0px 1px 2px rgba(60, 64, 67, 0.3), 0px 1px 3px 1px rgba(60, 64, 67, 0.15);\n",
              "      fill: #174EA6;\n",
              "    }\n",
              "\n",
              "    [theme=dark] .colab-df-convert {\n",
              "      background-color: #3B4455;\n",
              "      fill: #D2E3FC;\n",
              "    }\n",
              "\n",
              "    [theme=dark] .colab-df-convert:hover {\n",
              "      background-color: #434B5C;\n",
              "      box-shadow: 0px 1px 3px 1px rgba(0, 0, 0, 0.15);\n",
              "      filter: drop-shadow(0px 1px 2px rgba(0, 0, 0, 0.3));\n",
              "      fill: #FFFFFF;\n",
              "    }\n",
              "  </style>\n",
              "\n",
              "      <script>\n",
              "        const buttonEl =\n",
              "          document.querySelector('#df-ef4c7369-dc97-4d3a-931e-2b6298c73ae9 button.colab-df-convert');\n",
              "        buttonEl.style.display =\n",
              "          google.colab.kernel.accessAllowed ? 'block' : 'none';\n",
              "\n",
              "        async function convertToInteractive(key) {\n",
              "          const element = document.querySelector('#df-ef4c7369-dc97-4d3a-931e-2b6298c73ae9');\n",
              "          const dataTable =\n",
              "            await google.colab.kernel.invokeFunction('convertToInteractive',\n",
              "                                                     [key], {});\n",
              "          if (!dataTable) return;\n",
              "\n",
              "          const docLinkHtml = 'Like what you see? Visit the ' +\n",
              "            '<a target=\"_blank\" href=https://colab.research.google.com/notebooks/data_table.ipynb>data table notebook</a>'\n",
              "            + ' to learn more about interactive tables.';\n",
              "          element.innerHTML = '';\n",
              "          dataTable['output_type'] = 'display_data';\n",
              "          await google.colab.output.renderOutput(dataTable, element);\n",
              "          const docLink = document.createElement('div');\n",
              "          docLink.innerHTML = docLinkHtml;\n",
              "          element.appendChild(docLink);\n",
              "        }\n",
              "      </script>\n",
              "    </div>\n",
              "  </div>\n",
              "  "
            ]
          },
          "metadata": {},
          "execution_count": 8
        }
      ]
    },
    {
      "cell_type": "markdown",
      "source": [
        "### Split into train and test dataset"
      ],
      "metadata": {
        "id": "pOpFNKbZbdRb"
      }
    },
    {
      "cell_type": "code",
      "source": [
        "def generate_train_test_datasets(dataset, scale = True):\n",
        "  \n",
        "  min_rating = min(dataset[\"rating\"])\n",
        "  max_rating = max(dataset[\"rating\"])\n",
        "\n",
        "  dataset = dataset.sample(frac = 1, random_state = 42)\n",
        "  x = dataset[[\"user\", \"item\"]].values\n",
        "  if scale:\n",
        "    y = dataset[\"rating\"].apply(lambda x: (x- min_rating)/ (max_rating - min_rating))\n",
        "  else:\n",
        "    y = dataset[\"rating\"].values\n",
        "\n",
        "  # Assume training on 80% of the data and validation on 10% and testing 10%\n",
        "\n",
        "  train_indices = int(0.8 * dataset.shape[0])\n",
        "\n",
        "  test_indices = int(0.9 * dataset.shape[0])\n",
        "\n",
        "  x_train, x_val, x_test, y_train, y_val, y_test = (\n",
        "       x[:train_indices],\n",
        "        x[train_indices:test_indices],\n",
        "        x[test_indices:],\n",
        "        y[:train_indices],\n",
        "        y[train_indices:test_indices],\n",
        "        y[test_indices:],\n",
        "  )\n",
        "\n",
        "  return x_train, x_val, x_test, y_train, y_val, y_test\n",
        "    "
      ],
      "metadata": {
        "id": "KIZt2Nl_biSB"
      },
      "execution_count": 9,
      "outputs": []
    },
    {
      "cell_type": "code",
      "source": [
        "x_train, x_val, x_test, y_train, y_val, y_test = generate_train_test_datasets(encoded_data)"
      ],
      "metadata": {
        "id": "doz0TKVAcio5"
      },
      "execution_count": 10,
      "outputs": []
    },
    {
      "cell_type": "code",
      "source": [
        "user_indices = x_train[:, 0]\n",
        "user_indices"
      ],
      "metadata": {
        "colab": {
          "base_uri": "https://localhost:8080/"
        },
        "id": "Q71lcoFMclYo",
        "outputId": "b26fc132-e936-412e-e3fe-25aa488ad921"
      },
      "execution_count": 11,
      "outputs": [
        {
          "output_type": "execute_result",
          "data": {
            "text/plain": [
              "array([ 8376,  7659, 10717, ...,  3409, 28761,  4973])"
            ]
          },
          "metadata": {},
          "execution_count": 11
        }
      ]
    },
    {
      "cell_type": "code",
      "source": [
        "item_indices = x_train[:, 1]\n",
        "item_indices"
      ],
      "metadata": {
        "colab": {
          "base_uri": "https://localhost:8080/"
        },
        "id": "CwsE5dxGcn_J",
        "outputId": "5f750cbc-375a-413f-8a2b-73a4f31f19b6"
      },
      "execution_count": 12,
      "outputs": [
        {
          "output_type": "execute_result",
          "data": {
            "text/plain": [
              "array([12, 29,  3, ..., 18, 19, 17])"
            ]
          },
          "metadata": {},
          "execution_count": 12
        }
      ]
    },
    {
      "cell_type": "code",
      "source": [
        "y_train"
      ],
      "metadata": {
        "colab": {
          "base_uri": "https://localhost:8080/"
        },
        "id": "3W0pbCiZcp-C",
        "outputId": "9e4cb922-c240-4c1b-fec0-2e4eb9707fcc"
      },
      "execution_count": 13,
      "outputs": [
        {
          "output_type": "execute_result",
          "data": {
            "text/plain": [
              "173735    1.0\n",
              "20280     1.0\n",
              "201508    1.0\n",
              "170108    1.0\n",
              "187957    1.0\n",
              "         ... \n",
              "107376    1.0\n",
              "116707    1.0\n",
              "162675    1.0\n",
              "105408    0.0\n",
              "41819     1.0\n",
              "Name: rating, Length: 186644, dtype: float64"
            ]
          },
          "metadata": {},
          "execution_count": 13
        }
      ]
    },
    {
      "cell_type": "code",
      "source": [
        "embedding_size = 16\n",
        "model = RecommenderNet(num_users, num_items,embedding_size)"
      ],
      "metadata": {
        "id": "SFv5pIJ2csOL"
      },
      "execution_count": 28,
      "outputs": []
    },
    {
      "cell_type": "markdown",
      "source": [
        "### Train the model"
      ],
      "metadata": {
        "id": "xYRrg-hOcyc0"
      }
    },
    {
      "cell_type": "code",
      "source": [
        "model.compile(\n",
        "    metrics=[tf.keras.metrics.RootMeanSquaredError()], \n",
        "    optimizer = \"adam\", \n",
        "    loss = tf.keras.losses.MeanSquaredError())"
      ],
      "metadata": {
        "id": "P1mRWDkidYYV"
      },
      "execution_count": 29,
      "outputs": []
    },
    {
      "cell_type": "code",
      "source": [
        "history = model.fit(\n",
        "    x_train,\n",
        "    y_train,\n",
        "    epochs = 5,\n",
        "    validation_data = (x_val, y_val)\n",
        ")"
      ],
      "metadata": {
        "colab": {
          "base_uri": "https://localhost:8080/"
        },
        "id": "PfeAf9iwdqlg",
        "outputId": "77f2084a-b2d0-456e-b4a4-60405ca497cd"
      },
      "execution_count": 33,
      "outputs": [
        {
          "output_type": "stream",
          "name": "stdout",
          "text": [
            "Epoch 1/5\n",
            "5833/5833 [==============================] - 42s 7ms/step - loss: 0.0278 - root_mean_squared_error: 0.1636 - val_loss: 0.0253 - val_root_mean_squared_error: 0.1555\n",
            "Epoch 2/5\n",
            "5833/5833 [==============================] - 43s 7ms/step - loss: 0.0204 - root_mean_squared_error: 0.1384 - val_loss: 0.0215 - val_root_mean_squared_error: 0.1425\n",
            "Epoch 3/5\n",
            "5833/5833 [==============================] - 43s 7ms/step - loss: 0.0166 - root_mean_squared_error: 0.1244 - val_loss: 0.0191 - val_root_mean_squared_error: 0.1344\n",
            "Epoch 4/5\n",
            "5833/5833 [==============================] - 42s 7ms/step - loss: 0.0138 - root_mean_squared_error: 0.1131 - val_loss: 0.0173 - val_root_mean_squared_error: 0.1278\n",
            "Epoch 5/5\n",
            "5833/5833 [==============================] - 48s 8ms/step - loss: 0.0115 - root_mean_squared_error: 0.1028 - val_loss: 0.0159 - val_root_mean_squared_error: 0.1225\n"
          ]
        }
      ]
    },
    {
      "cell_type": "code",
      "source": [
        "model.evaluate(x_test,y_test)"
      ],
      "metadata": {
        "colab": {
          "base_uri": "https://localhost:8080/"
        },
        "id": "MHTWQ7VTd_H9",
        "outputId": "505b9002-8a77-4beb-f9b4-9b3f0a298c9f"
      },
      "execution_count": 35,
      "outputs": [
        {
          "output_type": "stream",
          "name": "stdout",
          "text": [
            "730/730 [==============================] - 2s 2ms/step - loss: 0.0158 - root_mean_squared_error: 0.1219\n"
          ]
        },
        {
          "output_type": "execute_result",
          "data": {
            "text/plain": [
              "[0.01575668901205063, 0.12186067551374435]"
            ]
          },
          "metadata": {},
          "execution_count": 35
        }
      ]
    },
    {
      "cell_type": "markdown",
      "source": [
        "# Extract the user and item embedding vectors as latent feature vectors\n",
        "\n",
        "Now that we have trained `RecommenderNet()`, we can extract the latent feature vectors."
      ],
      "metadata": {
        "id": "DwODST1Zg53q"
      }
    },
    {
      "cell_type": "code",
      "source": [
        "model.summary()"
      ],
      "metadata": {
        "colab": {
          "base_uri": "https://localhost:8080/"
        },
        "id": "jISybAtOhFJm",
        "outputId": "6ea61530-5e50-4b05-b374-4046e32ca593"
      },
      "execution_count": 36,
      "outputs": [
        {
          "output_type": "stream",
          "name": "stdout",
          "text": [
            "Model: \"recommender_net_3\"\n",
            "_________________________________________________________________\n",
            " Layer (type)                Output Shape              Param #   \n",
            "=================================================================\n",
            " user_embedding_layer (Embed  multiple                 542416    \n",
            " ding)                                                           \n",
            "                                                                 \n",
            " user_bias (Embedding)       multiple                  33901     \n",
            "                                                                 \n",
            " item_embedding_layer (Embed  multiple                 2016      \n",
            " ding)                                                           \n",
            "                                                                 \n",
            " item_bias (Embedding)       multiple                  126       \n",
            "                                                                 \n",
            "=================================================================\n",
            "Total params: 578,459\n",
            "Trainable params: 578,459\n",
            "Non-trainable params: 0\n",
            "_________________________________________________________________\n"
          ]
        }
      ]
    },
    {
      "cell_type": "code",
      "source": [
        "# User features\n",
        "user_latent_features = model.get_layer('user_embedding_layer').get_weights()[0]\n",
        "user_latent_features.shape"
      ],
      "metadata": {
        "colab": {
          "base_uri": "https://localhost:8080/"
        },
        "id": "_wjJIdvEkg_2",
        "outputId": "c671fe8a-347a-41ed-bb7a-552dad094d29"
      },
      "execution_count": 38,
      "outputs": [
        {
          "output_type": "execute_result",
          "data": {
            "text/plain": [
              "(33901, 16)"
            ]
          },
          "metadata": {},
          "execution_count": 38
        }
      ]
    },
    {
      "cell_type": "code",
      "source": [
        "user_latent_features[0]"
      ],
      "metadata": {
        "colab": {
          "base_uri": "https://localhost:8080/"
        },
        "id": "EHCZnp67kxMF",
        "outputId": "c3be66ea-000f-4c6b-8b8e-a7e7c38dab67"
      },
      "execution_count": 39,
      "outputs": [
        {
          "output_type": "execute_result",
          "data": {
            "text/plain": [
              "array([-0.05660417, -0.00197861,  0.15610763, -0.05782869,  0.02075379,\n",
              "       -0.02110894,  0.12818082,  0.01095002,  0.00592644,  0.05365551,\n",
              "        0.14405552, -0.07637911, -0.06294359, -0.16191413, -0.08112145,\n",
              "        0.0003381 ], dtype=float32)"
            ]
          },
          "metadata": {},
          "execution_count": 39
        }
      ]
    },
    {
      "cell_type": "code",
      "source": [
        "item_latent_features = model.get_layer('item_embedding_layer').get_weights()[0]\n",
        "item_latent_features.shape"
      ],
      "metadata": {
        "colab": {
          "base_uri": "https://localhost:8080/"
        },
        "id": "mG7lltYmk3Wo",
        "outputId": "07bca502-d666-4e63-f4f7-d36d4ec23036"
      },
      "execution_count": 40,
      "outputs": [
        {
          "output_type": "execute_result",
          "data": {
            "text/plain": [
              "(126, 16)"
            ]
          },
          "metadata": {},
          "execution_count": 40
        }
      ]
    },
    {
      "cell_type": "code",
      "source": [
        "item_latent_features[0]"
      ],
      "metadata": {
        "colab": {
          "base_uri": "https://localhost:8080/"
        },
        "id": "ifFCCRhBlC4j",
        "outputId": "dc6fbc4e-1874-4bca-e738-0f5135054516"
      },
      "execution_count": 41,
      "outputs": [
        {
          "output_type": "execute_result",
          "data": {
            "text/plain": [
              "array([ 3.2357245e-03, -3.3233676e-03,  8.2252305e-03, -8.5670175e-03,\n",
              "       -7.2578909e-03, -6.0052699e-03, -1.8494405e-02, -7.9738414e-03,\n",
              "        7.8390762e-03,  3.3829689e-02,  8.1926296e-03, -1.3557538e-02,\n",
              "       -3.4701516e-05,  2.4580786e-02,  2.0499341e-03, -3.3527457e-03],\n",
              "      dtype=float32)"
            ]
          },
          "metadata": {},
          "execution_count": 41
        }
      ]
    },
    {
      "cell_type": "markdown",
      "source": [
        "As we can see each user of the total 33901 users has been transformed into 16x1 latent feature and each item of the total 126 has been transformed into a 16x1 latent feature vector"
      ],
      "metadata": {
        "id": "E6sBCSfTlGeF"
      }
    },
    {
      "cell_type": "code",
      "source": [],
      "metadata": {
        "id": "ZerZGE5ylYRx"
      },
      "execution_count": null,
      "outputs": []
    }
  ]
}