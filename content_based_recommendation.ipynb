{
  "nbformat": 4,
  "nbformat_minor": 0,
  "metadata": {
    "colab": {
      "provenance": [],
      "collapsed_sections": [],
      "toc_visible": true,
      "authorship_tag": "ABX9TyMpgXlACbV6D1RU3xszp2JO",
      "include_colab_link": true
    },
    "kernelspec": {
      "name": "python3",
      "display_name": "Python 3"
    },
    "language_info": {
      "name": "python"
    }
  },
  "cells": [
    {
      "cell_type": "markdown",
      "metadata": {
        "id": "view-in-github",
        "colab_type": "text"
      },
      "source": [
        "<a href=\"https://colab.research.google.com/github/Bhandari007/recommendation_system/blob/main/content_based_recommendation.ipynb\" target=\"_parent\"><img src=\"https://colab.research.google.com/assets/colab-badge.svg\" alt=\"Open In Colab\"/></a>"
      ]
    },
    {
      "cell_type": "markdown",
      "source": [
        "# Content-Based Filtering\n",
        "\n",
        "In this notebook, we will implement content-based filtering using a neural network to build a recommender system."
      ],
      "metadata": {
        "id": "LRXsuI-I1fSn"
      }
    },
    {
      "cell_type": "markdown",
      "source": [
        "# Packages\n",
        "\n",
        "I will packages, NumPy, TensorFlow, Pandas"
      ],
      "metadata": {
        "id": "mF-BhnKU17yr"
      }
    },
    {
      "cell_type": "code",
      "source": [
        "import numpy as np\n",
        "import pandas as pd\n",
        "import tensorflow as tf\n",
        "from tensorflow import keras\n",
        "from sklearn.model_selection import train_test_split"
      ],
      "metadata": {
        "id": "4Lmi_7vg2Ej4"
      },
      "execution_count": null,
      "outputs": []
    },
    {
      "cell_type": "markdown",
      "source": [
        "# Dataset\n",
        "\n",
        "The dataset is available on Kaggle website.\n",
        "\n",
        "Unzip and download the dataset"
      ],
      "metadata": {
        "id": "vUwgqO842SAq"
      }
    },
    {
      "cell_type": "code",
      "source": [
        "import zipfile\n",
        "! wget https://github.com/Bhandari007/recommendation_system/blob/main/netflix_titles.csv.zip?raw=true\n",
        "zipfolder = zipfile.ZipFile(\"netflix_titles.csv.zip?raw=true\")\n",
        "zipfolder.extractall()\n",
        "zipfolder.close()"
      ],
      "metadata": {
        "colab": {
          "base_uri": "https://localhost:8080/"
        },
        "id": "eKnmRDFY2ZEI",
        "outputId": "cf6aec04-0fa0-4338-b68e-ec71b399af4f"
      },
      "execution_count": null,
      "outputs": [
        {
          "output_type": "stream",
          "name": "stdout",
          "text": [
            "--2022-10-15 04:56:20--  https://github.com/Bhandari007/recommendation_system/blob/main/netflix_titles.csv.zip?raw=true\n",
            "Resolving github.com (github.com)... 140.82.112.4\n",
            "Connecting to github.com (github.com)|140.82.112.4|:443... connected.\n",
            "HTTP request sent, awaiting response... 302 Found\n",
            "Location: https://github.com/Bhandari007/recommendation_system/raw/main/netflix_titles.csv.zip [following]\n",
            "--2022-10-15 04:56:20--  https://github.com/Bhandari007/recommendation_system/raw/main/netflix_titles.csv.zip\n",
            "Reusing existing connection to github.com:443.\n",
            "HTTP request sent, awaiting response... 302 Found\n",
            "Location: https://raw.githubusercontent.com/Bhandari007/recommendation_system/main/netflix_titles.csv.zip [following]\n",
            "--2022-10-15 04:56:21--  https://raw.githubusercontent.com/Bhandari007/recommendation_system/main/netflix_titles.csv.zip\n",
            "Resolving raw.githubusercontent.com (raw.githubusercontent.com)... 185.199.108.133, 185.199.109.133, 185.199.110.133, ...\n",
            "Connecting to raw.githubusercontent.com (raw.githubusercontent.com)|185.199.108.133|:443... connected.\n",
            "HTTP request sent, awaiting response... 200 OK\n",
            "Length: 993939 (971K) [application/zip]\n",
            "Saving to: ‘netflix_titles.csv.zip?raw=true’\n",
            "\n",
            "netflix_titles.csv. 100%[===================>] 970.64K  --.-KB/s    in 0.05s   \n",
            "\n",
            "2022-10-15 04:56:21 (20.3 MB/s) - ‘netflix_titles.csv.zip?raw=true’ saved [993939/993939]\n",
            "\n"
          ]
        }
      ]
    },
    {
      "cell_type": "markdown",
      "source": [
        "##  Data Cleaning"
      ],
      "metadata": {
        "id": "zsRGYB124UWA"
      }
    },
    {
      "cell_type": "code",
      "source": [
        "df = pd.read_csv(\"netflix_titles.csv\",parse_dates = [\"date_added\",\"release_year\"])\n",
        "df.head()"
      ],
      "metadata": {
        "colab": {
          "base_uri": "https://localhost:8080/",
          "height": 545
        },
        "id": "fVVjFZgD3hI5",
        "outputId": "3aafd664-6f18-4a64-a136-47060036236d"
      },
      "execution_count": null,
      "outputs": [
        {
          "output_type": "execute_result",
          "data": {
            "text/plain": [
              "    show_id     type                                    title  \\\n",
              "0  81145628    Movie  Norm of the North: King Sized Adventure   \n",
              "1  80117401    Movie               Jandino: Whatever it Takes   \n",
              "2  70234439  TV Show                       Transformers Prime   \n",
              "3  80058654  TV Show         Transformers: Robots in Disguise   \n",
              "4  80125979    Movie                             #realityhigh   \n",
              "\n",
              "                   director  \\\n",
              "0  Richard Finn, Tim Maltby   \n",
              "1                       NaN   \n",
              "2                       NaN   \n",
              "3                       NaN   \n",
              "4          Fernando Lebrija   \n",
              "\n",
              "                                                cast  \\\n",
              "0  Alan Marriott, Andrew Toth, Brian Dobson, Cole...   \n",
              "1                                   Jandino Asporaat   \n",
              "2  Peter Cullen, Sumalee Montano, Frank Welker, J...   \n",
              "3  Will Friedle, Darren Criss, Constance Zimmer, ...   \n",
              "4  Nesta Cooper, Kate Walsh, John Michael Higgins...   \n",
              "\n",
              "                                    country date_added release_year    rating  \\\n",
              "0  United States, India, South Korea, China 2019-09-09   2019-01-01     TV-PG   \n",
              "1                            United Kingdom 2016-09-09   2016-01-01     TV-MA   \n",
              "2                             United States 2018-09-08   2013-01-01  TV-Y7-FV   \n",
              "3                             United States 2018-09-08   2016-01-01     TV-Y7   \n",
              "4                             United States 2017-09-08   2017-01-01     TV-14   \n",
              "\n",
              "   duration                           listed_in  \\\n",
              "0    90 min  Children & Family Movies, Comedies   \n",
              "1    94 min                     Stand-Up Comedy   \n",
              "2  1 Season                            Kids' TV   \n",
              "3  1 Season                            Kids' TV   \n",
              "4    99 min                            Comedies   \n",
              "\n",
              "                                         description  \n",
              "0  Before planning an awesome wedding for his gra...  \n",
              "1  Jandino Asporaat riffs on the challenges of ra...  \n",
              "2  With the help of three human allies, the Autob...  \n",
              "3  When a prison ship crash unleashes hundreds of...  \n",
              "4  When nerdy high schooler Dani finally attracts...  "
            ],
            "text/html": [
              "\n",
              "  <div id=\"df-da8f6ecc-6860-42bd-92bb-ab9bcee45b92\">\n",
              "    <div class=\"colab-df-container\">\n",
              "      <div>\n",
              "<style scoped>\n",
              "    .dataframe tbody tr th:only-of-type {\n",
              "        vertical-align: middle;\n",
              "    }\n",
              "\n",
              "    .dataframe tbody tr th {\n",
              "        vertical-align: top;\n",
              "    }\n",
              "\n",
              "    .dataframe thead th {\n",
              "        text-align: right;\n",
              "    }\n",
              "</style>\n",
              "<table border=\"1\" class=\"dataframe\">\n",
              "  <thead>\n",
              "    <tr style=\"text-align: right;\">\n",
              "      <th></th>\n",
              "      <th>show_id</th>\n",
              "      <th>type</th>\n",
              "      <th>title</th>\n",
              "      <th>director</th>\n",
              "      <th>cast</th>\n",
              "      <th>country</th>\n",
              "      <th>date_added</th>\n",
              "      <th>release_year</th>\n",
              "      <th>rating</th>\n",
              "      <th>duration</th>\n",
              "      <th>listed_in</th>\n",
              "      <th>description</th>\n",
              "    </tr>\n",
              "  </thead>\n",
              "  <tbody>\n",
              "    <tr>\n",
              "      <th>0</th>\n",
              "      <td>81145628</td>\n",
              "      <td>Movie</td>\n",
              "      <td>Norm of the North: King Sized Adventure</td>\n",
              "      <td>Richard Finn, Tim Maltby</td>\n",
              "      <td>Alan Marriott, Andrew Toth, Brian Dobson, Cole...</td>\n",
              "      <td>United States, India, South Korea, China</td>\n",
              "      <td>2019-09-09</td>\n",
              "      <td>2019-01-01</td>\n",
              "      <td>TV-PG</td>\n",
              "      <td>90 min</td>\n",
              "      <td>Children &amp; Family Movies, Comedies</td>\n",
              "      <td>Before planning an awesome wedding for his gra...</td>\n",
              "    </tr>\n",
              "    <tr>\n",
              "      <th>1</th>\n",
              "      <td>80117401</td>\n",
              "      <td>Movie</td>\n",
              "      <td>Jandino: Whatever it Takes</td>\n",
              "      <td>NaN</td>\n",
              "      <td>Jandino Asporaat</td>\n",
              "      <td>United Kingdom</td>\n",
              "      <td>2016-09-09</td>\n",
              "      <td>2016-01-01</td>\n",
              "      <td>TV-MA</td>\n",
              "      <td>94 min</td>\n",
              "      <td>Stand-Up Comedy</td>\n",
              "      <td>Jandino Asporaat riffs on the challenges of ra...</td>\n",
              "    </tr>\n",
              "    <tr>\n",
              "      <th>2</th>\n",
              "      <td>70234439</td>\n",
              "      <td>TV Show</td>\n",
              "      <td>Transformers Prime</td>\n",
              "      <td>NaN</td>\n",
              "      <td>Peter Cullen, Sumalee Montano, Frank Welker, J...</td>\n",
              "      <td>United States</td>\n",
              "      <td>2018-09-08</td>\n",
              "      <td>2013-01-01</td>\n",
              "      <td>TV-Y7-FV</td>\n",
              "      <td>1 Season</td>\n",
              "      <td>Kids' TV</td>\n",
              "      <td>With the help of three human allies, the Autob...</td>\n",
              "    </tr>\n",
              "    <tr>\n",
              "      <th>3</th>\n",
              "      <td>80058654</td>\n",
              "      <td>TV Show</td>\n",
              "      <td>Transformers: Robots in Disguise</td>\n",
              "      <td>NaN</td>\n",
              "      <td>Will Friedle, Darren Criss, Constance Zimmer, ...</td>\n",
              "      <td>United States</td>\n",
              "      <td>2018-09-08</td>\n",
              "      <td>2016-01-01</td>\n",
              "      <td>TV-Y7</td>\n",
              "      <td>1 Season</td>\n",
              "      <td>Kids' TV</td>\n",
              "      <td>When a prison ship crash unleashes hundreds of...</td>\n",
              "    </tr>\n",
              "    <tr>\n",
              "      <th>4</th>\n",
              "      <td>80125979</td>\n",
              "      <td>Movie</td>\n",
              "      <td>#realityhigh</td>\n",
              "      <td>Fernando Lebrija</td>\n",
              "      <td>Nesta Cooper, Kate Walsh, John Michael Higgins...</td>\n",
              "      <td>United States</td>\n",
              "      <td>2017-09-08</td>\n",
              "      <td>2017-01-01</td>\n",
              "      <td>TV-14</td>\n",
              "      <td>99 min</td>\n",
              "      <td>Comedies</td>\n",
              "      <td>When nerdy high schooler Dani finally attracts...</td>\n",
              "    </tr>\n",
              "  </tbody>\n",
              "</table>\n",
              "</div>\n",
              "      <button class=\"colab-df-convert\" onclick=\"convertToInteractive('df-da8f6ecc-6860-42bd-92bb-ab9bcee45b92')\"\n",
              "              title=\"Convert this dataframe to an interactive table.\"\n",
              "              style=\"display:none;\">\n",
              "        \n",
              "  <svg xmlns=\"http://www.w3.org/2000/svg\" height=\"24px\"viewBox=\"0 0 24 24\"\n",
              "       width=\"24px\">\n",
              "    <path d=\"M0 0h24v24H0V0z\" fill=\"none\"/>\n",
              "    <path d=\"M18.56 5.44l.94 2.06.94-2.06 2.06-.94-2.06-.94-.94-2.06-.94 2.06-2.06.94zm-11 1L8.5 8.5l.94-2.06 2.06-.94-2.06-.94L8.5 2.5l-.94 2.06-2.06.94zm10 10l.94 2.06.94-2.06 2.06-.94-2.06-.94-.94-2.06-.94 2.06-2.06.94z\"/><path d=\"M17.41 7.96l-1.37-1.37c-.4-.4-.92-.59-1.43-.59-.52 0-1.04.2-1.43.59L10.3 9.45l-7.72 7.72c-.78.78-.78 2.05 0 2.83L4 21.41c.39.39.9.59 1.41.59.51 0 1.02-.2 1.41-.59l7.78-7.78 2.81-2.81c.8-.78.8-2.07 0-2.86zM5.41 20L4 18.59l7.72-7.72 1.47 1.35L5.41 20z\"/>\n",
              "  </svg>\n",
              "      </button>\n",
              "      \n",
              "  <style>\n",
              "    .colab-df-container {\n",
              "      display:flex;\n",
              "      flex-wrap:wrap;\n",
              "      gap: 12px;\n",
              "    }\n",
              "\n",
              "    .colab-df-convert {\n",
              "      background-color: #E8F0FE;\n",
              "      border: none;\n",
              "      border-radius: 50%;\n",
              "      cursor: pointer;\n",
              "      display: none;\n",
              "      fill: #1967D2;\n",
              "      height: 32px;\n",
              "      padding: 0 0 0 0;\n",
              "      width: 32px;\n",
              "    }\n",
              "\n",
              "    .colab-df-convert:hover {\n",
              "      background-color: #E2EBFA;\n",
              "      box-shadow: 0px 1px 2px rgba(60, 64, 67, 0.3), 0px 1px 3px 1px rgba(60, 64, 67, 0.15);\n",
              "      fill: #174EA6;\n",
              "    }\n",
              "\n",
              "    [theme=dark] .colab-df-convert {\n",
              "      background-color: #3B4455;\n",
              "      fill: #D2E3FC;\n",
              "    }\n",
              "\n",
              "    [theme=dark] .colab-df-convert:hover {\n",
              "      background-color: #434B5C;\n",
              "      box-shadow: 0px 1px 3px 1px rgba(0, 0, 0, 0.15);\n",
              "      filter: drop-shadow(0px 1px 2px rgba(0, 0, 0, 0.3));\n",
              "      fill: #FFFFFF;\n",
              "    }\n",
              "  </style>\n",
              "\n",
              "      <script>\n",
              "        const buttonEl =\n",
              "          document.querySelector('#df-da8f6ecc-6860-42bd-92bb-ab9bcee45b92 button.colab-df-convert');\n",
              "        buttonEl.style.display =\n",
              "          google.colab.kernel.accessAllowed ? 'block' : 'none';\n",
              "\n",
              "        async function convertToInteractive(key) {\n",
              "          const element = document.querySelector('#df-da8f6ecc-6860-42bd-92bb-ab9bcee45b92');\n",
              "          const dataTable =\n",
              "            await google.colab.kernel.invokeFunction('convertToInteractive',\n",
              "                                                     [key], {});\n",
              "          if (!dataTable) return;\n",
              "\n",
              "          const docLinkHtml = 'Like what you see? Visit the ' +\n",
              "            '<a target=\"_blank\" href=https://colab.research.google.com/notebooks/data_table.ipynb>data table notebook</a>'\n",
              "            + ' to learn more about interactive tables.';\n",
              "          element.innerHTML = '';\n",
              "          dataTable['output_type'] = 'display_data';\n",
              "          await google.colab.output.renderOutput(dataTable, element);\n",
              "          const docLink = document.createElement('div');\n",
              "          docLink.innerHTML = docLinkHtml;\n",
              "          element.appendChild(docLink);\n",
              "        }\n",
              "      </script>\n",
              "    </div>\n",
              "  </div>\n",
              "  "
            ]
          },
          "metadata": {},
          "execution_count": 3
        }
      ]
    },
    {
      "cell_type": "code",
      "source": [
        "# Check shape\n",
        "df.shape"
      ],
      "metadata": {
        "colab": {
          "base_uri": "https://localhost:8080/"
        },
        "id": "RgwuaGDw3mJT",
        "outputId": "ddd654de-5b75-4ab7-8317-0f41a2d1a1ee"
      },
      "execution_count": null,
      "outputs": [
        {
          "output_type": "execute_result",
          "data": {
            "text/plain": [
              "(6234, 12)"
            ]
          },
          "metadata": {},
          "execution_count": 4
        }
      ]
    },
    {
      "cell_type": "markdown",
      "source": [
        "There are 6234 datasets with 12 different features"
      ],
      "metadata": {
        "id": "mwXeek133wD7"
      }
    },
    {
      "cell_type": "code",
      "source": [
        "df.info()"
      ],
      "metadata": {
        "colab": {
          "base_uri": "https://localhost:8080/"
        },
        "id": "Sl1QlDC736n5",
        "outputId": "d0352d5a-72dd-4a0f-881f-c548452ec911"
      },
      "execution_count": null,
      "outputs": [
        {
          "output_type": "stream",
          "name": "stdout",
          "text": [
            "<class 'pandas.core.frame.DataFrame'>\n",
            "RangeIndex: 6234 entries, 0 to 6233\n",
            "Data columns (total 12 columns):\n",
            " #   Column        Non-Null Count  Dtype         \n",
            "---  ------        --------------  -----         \n",
            " 0   show_id       6234 non-null   int64         \n",
            " 1   type          6234 non-null   object        \n",
            " 2   title         6234 non-null   object        \n",
            " 3   director      4265 non-null   object        \n",
            " 4   cast          5664 non-null   object        \n",
            " 5   country       5758 non-null   object        \n",
            " 6   date_added    6223 non-null   datetime64[ns]\n",
            " 7   release_year  6234 non-null   datetime64[ns]\n",
            " 8   rating        6224 non-null   object        \n",
            " 9   duration      6234 non-null   object        \n",
            " 10  listed_in     6234 non-null   object        \n",
            " 11  description   6234 non-null   object        \n",
            "dtypes: datetime64[ns](2), int64(1), object(9)\n",
            "memory usage: 584.6+ KB\n"
          ]
        }
      ]
    },
    {
      "cell_type": "markdown",
      "source": [
        "We have three features that have some null-values `director`, `cast`, `country` and `date_added`.\n",
        "\n",
        "For simplicity we will remove the rows that have missing values."
      ],
      "metadata": {
        "id": "sSgZOMeX37fD"
      }
    },
    {
      "cell_type": "markdown",
      "source": [
        "### Removing missing rows"
      ],
      "metadata": {
        "id": "gJDnsIUs_jlG"
      }
    },
    {
      "cell_type": "code",
      "source": [
        "df = df.dropna(axis=0)"
      ],
      "metadata": {
        "id": "UnQpyet16O6f"
      },
      "execution_count": null,
      "outputs": []
    },
    {
      "cell_type": "code",
      "source": [
        "df.info()"
      ],
      "metadata": {
        "colab": {
          "base_uri": "https://localhost:8080/"
        },
        "id": "7d25JlBj_G0H",
        "outputId": "a8fca69e-eb25-45a0-a5a1-bce30e60dd74"
      },
      "execution_count": null,
      "outputs": [
        {
          "output_type": "stream",
          "name": "stdout",
          "text": [
            "<class 'pandas.core.frame.DataFrame'>\n",
            "Int64Index: 3774 entries, 0 to 6213\n",
            "Data columns (total 12 columns):\n",
            " #   Column        Non-Null Count  Dtype         \n",
            "---  ------        --------------  -----         \n",
            " 0   show_id       3774 non-null   int64         \n",
            " 1   type          3774 non-null   object        \n",
            " 2   title         3774 non-null   object        \n",
            " 3   director      3774 non-null   object        \n",
            " 4   cast          3774 non-null   object        \n",
            " 5   country       3774 non-null   object        \n",
            " 6   date_added    3774 non-null   datetime64[ns]\n",
            " 7   release_year  3774 non-null   datetime64[ns]\n",
            " 8   rating        3774 non-null   object        \n",
            " 9   duration      3774 non-null   object        \n",
            " 10  listed_in     3774 non-null   object        \n",
            " 11  description   3774 non-null   object        \n",
            "dtypes: datetime64[ns](2), int64(1), object(9)\n",
            "memory usage: 383.3+ KB\n"
          ]
        }
      ]
    },
    {
      "cell_type": "markdown",
      "source": [
        "### Feature Engineering\n",
        "\n",
        "* Extracting appropriate feature from datetime features\n",
        "  * Extracting month and day from `day_added` column"
      ],
      "metadata": {
        "id": "m-EAEzoU_JId"
      }
    },
    {
      "cell_type": "code",
      "source": [
        "df[\"release_year\"] = df[\"release_year\"].dt.year\n",
        "df[\"day_added\"] = df[\"date_added\"].dt.day\n",
        "df[\"month_added\"] = df [\"date_added\"].dt.month"
      ],
      "metadata": {
        "id": "bVtOpcufAUQx"
      },
      "execution_count": null,
      "outputs": []
    },
    {
      "cell_type": "code",
      "source": [
        "# Now we can drop \"date_added\" column\n",
        "df = df.drop(columns = [\"date_added\"])"
      ],
      "metadata": {
        "id": "q28F_nWXDYGl"
      },
      "execution_count": null,
      "outputs": []
    },
    {
      "cell_type": "code",
      "source": [
        "# sanity check\n",
        "df.info()"
      ],
      "metadata": {
        "id": "iREEeMQhDrXM",
        "colab": {
          "base_uri": "https://localhost:8080/"
        },
        "outputId": "2023f13e-9f5a-42dd-9e2b-44275b2967f0"
      },
      "execution_count": null,
      "outputs": [
        {
          "output_type": "stream",
          "name": "stdout",
          "text": [
            "<class 'pandas.core.frame.DataFrame'>\n",
            "Int64Index: 3774 entries, 0 to 6213\n",
            "Data columns (total 13 columns):\n",
            " #   Column        Non-Null Count  Dtype \n",
            "---  ------        --------------  ----- \n",
            " 0   show_id       3774 non-null   int64 \n",
            " 1   type          3774 non-null   object\n",
            " 2   title         3774 non-null   object\n",
            " 3   director      3774 non-null   object\n",
            " 4   cast          3774 non-null   object\n",
            " 5   country       3774 non-null   object\n",
            " 6   release_year  3774 non-null   int64 \n",
            " 7   rating        3774 non-null   object\n",
            " 8   duration      3774 non-null   object\n",
            " 9   listed_in     3774 non-null   object\n",
            " 10  description   3774 non-null   object\n",
            " 11  day_added     3774 non-null   int64 \n",
            " 12  month_added   3774 non-null   int64 \n",
            "dtypes: int64(4), object(9)\n",
            "memory usage: 412.8+ KB\n"
          ]
        }
      ]
    },
    {
      "cell_type": "markdown",
      "source": [
        "### Exploring data"
      ],
      "metadata": {
        "id": "xF-k8lDxdUSu"
      }
    },
    {
      "cell_type": "code",
      "source": [
        "import matplotlib.pyplot as plt\n",
        "import seaborn as sns"
      ],
      "metadata": {
        "id": "9UNijLpbdtt8"
      },
      "execution_count": null,
      "outputs": []
    },
    {
      "cell_type": "code",
      "source": [
        "df = df.set_index(\"show_id\")\n",
        "df.head()"
      ],
      "metadata": {
        "colab": {
          "base_uri": "https://localhost:8080/",
          "height": 681
        },
        "id": "dc3IzWs4esSc",
        "outputId": "fc228e69-d692-415c-bd52-14946b155b49"
      },
      "execution_count": null,
      "outputs": [
        {
          "output_type": "execute_result",
          "data": {
            "text/plain": [
              "           type                                    title  \\\n",
              "show_id                                                    \n",
              "81145628  Movie  Norm of the North: King Sized Adventure   \n",
              "80125979  Movie                             #realityhigh   \n",
              "70304989  Movie                                 Automata   \n",
              "80164077  Movie       Fabrizio Copano: Solo pienso en mi   \n",
              "70304990  Movie                              Good People   \n",
              "\n",
              "                                 director  \\\n",
              "show_id                                     \n",
              "81145628         Richard Finn, Tim Maltby   \n",
              "80125979                 Fernando Lebrija   \n",
              "70304989                      Gabe Ibáñez   \n",
              "80164077  Rodrigo Toro, Francisco Schultz   \n",
              "70304990                Henrik Ruben Genz   \n",
              "\n",
              "                                                       cast  \\\n",
              "show_id                                                       \n",
              "81145628  Alan Marriott, Andrew Toth, Brian Dobson, Cole...   \n",
              "80125979  Nesta Cooper, Kate Walsh, John Michael Higgins...   \n",
              "70304989  Antonio Banderas, Dylan McDermott, Melanie Gri...   \n",
              "80164077                                    Fabrizio Copano   \n",
              "70304990  James Franco, Kate Hudson, Tom Wilkinson, Omar...   \n",
              "\n",
              "                                                 country  release_year rating  \\\n",
              "show_id                                                                         \n",
              "81145628        United States, India, South Korea, China          2019  TV-PG   \n",
              "80125979                                   United States          2017  TV-14   \n",
              "70304989          Bulgaria, United States, Spain, Canada          2014      R   \n",
              "80164077                                           Chile          2017  TV-MA   \n",
              "70304990  United States, United Kingdom, Denmark, Sweden          2014      R   \n",
              "\n",
              "         duration                                          listed_in  \\\n",
              "show_id                                                                \n",
              "81145628   90 min                 Children & Family Movies, Comedies   \n",
              "80125979   99 min                                           Comedies   \n",
              "70304989  110 min  International Movies, Sci-Fi & Fantasy, Thrillers   \n",
              "80164077   60 min                                    Stand-Up Comedy   \n",
              "70304990   90 min                      Action & Adventure, Thrillers   \n",
              "\n",
              "                                                description  day_added  \\\n",
              "show_id                                                                  \n",
              "81145628  Before planning an awesome wedding for his gra...          9   \n",
              "80125979  When nerdy high schooler Dani finally attracts...          8   \n",
              "70304989  In a dystopian future, an insurance adjuster f...          8   \n",
              "80164077  Fabrizio Copano takes audience participation t...          8   \n",
              "70304990  A struggling couple can't believe their luck w...          8   \n",
              "\n",
              "          month_added  \n",
              "show_id                \n",
              "81145628            9  \n",
              "80125979            9  \n",
              "70304989            9  \n",
              "80164077            9  \n",
              "70304990            9  "
            ],
            "text/html": [
              "\n",
              "  <div id=\"df-2ed2f472-102b-4bd9-aae3-38934377a526\">\n",
              "    <div class=\"colab-df-container\">\n",
              "      <div>\n",
              "<style scoped>\n",
              "    .dataframe tbody tr th:only-of-type {\n",
              "        vertical-align: middle;\n",
              "    }\n",
              "\n",
              "    .dataframe tbody tr th {\n",
              "        vertical-align: top;\n",
              "    }\n",
              "\n",
              "    .dataframe thead th {\n",
              "        text-align: right;\n",
              "    }\n",
              "</style>\n",
              "<table border=\"1\" class=\"dataframe\">\n",
              "  <thead>\n",
              "    <tr style=\"text-align: right;\">\n",
              "      <th></th>\n",
              "      <th>type</th>\n",
              "      <th>title</th>\n",
              "      <th>director</th>\n",
              "      <th>cast</th>\n",
              "      <th>country</th>\n",
              "      <th>release_year</th>\n",
              "      <th>rating</th>\n",
              "      <th>duration</th>\n",
              "      <th>listed_in</th>\n",
              "      <th>description</th>\n",
              "      <th>day_added</th>\n",
              "      <th>month_added</th>\n",
              "    </tr>\n",
              "    <tr>\n",
              "      <th>show_id</th>\n",
              "      <th></th>\n",
              "      <th></th>\n",
              "      <th></th>\n",
              "      <th></th>\n",
              "      <th></th>\n",
              "      <th></th>\n",
              "      <th></th>\n",
              "      <th></th>\n",
              "      <th></th>\n",
              "      <th></th>\n",
              "      <th></th>\n",
              "      <th></th>\n",
              "    </tr>\n",
              "  </thead>\n",
              "  <tbody>\n",
              "    <tr>\n",
              "      <th>81145628</th>\n",
              "      <td>Movie</td>\n",
              "      <td>Norm of the North: King Sized Adventure</td>\n",
              "      <td>Richard Finn, Tim Maltby</td>\n",
              "      <td>Alan Marriott, Andrew Toth, Brian Dobson, Cole...</td>\n",
              "      <td>United States, India, South Korea, China</td>\n",
              "      <td>2019</td>\n",
              "      <td>TV-PG</td>\n",
              "      <td>90 min</td>\n",
              "      <td>Children &amp; Family Movies, Comedies</td>\n",
              "      <td>Before planning an awesome wedding for his gra...</td>\n",
              "      <td>9</td>\n",
              "      <td>9</td>\n",
              "    </tr>\n",
              "    <tr>\n",
              "      <th>80125979</th>\n",
              "      <td>Movie</td>\n",
              "      <td>#realityhigh</td>\n",
              "      <td>Fernando Lebrija</td>\n",
              "      <td>Nesta Cooper, Kate Walsh, John Michael Higgins...</td>\n",
              "      <td>United States</td>\n",
              "      <td>2017</td>\n",
              "      <td>TV-14</td>\n",
              "      <td>99 min</td>\n",
              "      <td>Comedies</td>\n",
              "      <td>When nerdy high schooler Dani finally attracts...</td>\n",
              "      <td>8</td>\n",
              "      <td>9</td>\n",
              "    </tr>\n",
              "    <tr>\n",
              "      <th>70304989</th>\n",
              "      <td>Movie</td>\n",
              "      <td>Automata</td>\n",
              "      <td>Gabe Ibáñez</td>\n",
              "      <td>Antonio Banderas, Dylan McDermott, Melanie Gri...</td>\n",
              "      <td>Bulgaria, United States, Spain, Canada</td>\n",
              "      <td>2014</td>\n",
              "      <td>R</td>\n",
              "      <td>110 min</td>\n",
              "      <td>International Movies, Sci-Fi &amp; Fantasy, Thrillers</td>\n",
              "      <td>In a dystopian future, an insurance adjuster f...</td>\n",
              "      <td>8</td>\n",
              "      <td>9</td>\n",
              "    </tr>\n",
              "    <tr>\n",
              "      <th>80164077</th>\n",
              "      <td>Movie</td>\n",
              "      <td>Fabrizio Copano: Solo pienso en mi</td>\n",
              "      <td>Rodrigo Toro, Francisco Schultz</td>\n",
              "      <td>Fabrizio Copano</td>\n",
              "      <td>Chile</td>\n",
              "      <td>2017</td>\n",
              "      <td>TV-MA</td>\n",
              "      <td>60 min</td>\n",
              "      <td>Stand-Up Comedy</td>\n",
              "      <td>Fabrizio Copano takes audience participation t...</td>\n",
              "      <td>8</td>\n",
              "      <td>9</td>\n",
              "    </tr>\n",
              "    <tr>\n",
              "      <th>70304990</th>\n",
              "      <td>Movie</td>\n",
              "      <td>Good People</td>\n",
              "      <td>Henrik Ruben Genz</td>\n",
              "      <td>James Franco, Kate Hudson, Tom Wilkinson, Omar...</td>\n",
              "      <td>United States, United Kingdom, Denmark, Sweden</td>\n",
              "      <td>2014</td>\n",
              "      <td>R</td>\n",
              "      <td>90 min</td>\n",
              "      <td>Action &amp; Adventure, Thrillers</td>\n",
              "      <td>A struggling couple can't believe their luck w...</td>\n",
              "      <td>8</td>\n",
              "      <td>9</td>\n",
              "    </tr>\n",
              "  </tbody>\n",
              "</table>\n",
              "</div>\n",
              "      <button class=\"colab-df-convert\" onclick=\"convertToInteractive('df-2ed2f472-102b-4bd9-aae3-38934377a526')\"\n",
              "              title=\"Convert this dataframe to an interactive table.\"\n",
              "              style=\"display:none;\">\n",
              "        \n",
              "  <svg xmlns=\"http://www.w3.org/2000/svg\" height=\"24px\"viewBox=\"0 0 24 24\"\n",
              "       width=\"24px\">\n",
              "    <path d=\"M0 0h24v24H0V0z\" fill=\"none\"/>\n",
              "    <path d=\"M18.56 5.44l.94 2.06.94-2.06 2.06-.94-2.06-.94-.94-2.06-.94 2.06-2.06.94zm-11 1L8.5 8.5l.94-2.06 2.06-.94-2.06-.94L8.5 2.5l-.94 2.06-2.06.94zm10 10l.94 2.06.94-2.06 2.06-.94-2.06-.94-.94-2.06-.94 2.06-2.06.94z\"/><path d=\"M17.41 7.96l-1.37-1.37c-.4-.4-.92-.59-1.43-.59-.52 0-1.04.2-1.43.59L10.3 9.45l-7.72 7.72c-.78.78-.78 2.05 0 2.83L4 21.41c.39.39.9.59 1.41.59.51 0 1.02-.2 1.41-.59l7.78-7.78 2.81-2.81c.8-.78.8-2.07 0-2.86zM5.41 20L4 18.59l7.72-7.72 1.47 1.35L5.41 20z\"/>\n",
              "  </svg>\n",
              "      </button>\n",
              "      \n",
              "  <style>\n",
              "    .colab-df-container {\n",
              "      display:flex;\n",
              "      flex-wrap:wrap;\n",
              "      gap: 12px;\n",
              "    }\n",
              "\n",
              "    .colab-df-convert {\n",
              "      background-color: #E8F0FE;\n",
              "      border: none;\n",
              "      border-radius: 50%;\n",
              "      cursor: pointer;\n",
              "      display: none;\n",
              "      fill: #1967D2;\n",
              "      height: 32px;\n",
              "      padding: 0 0 0 0;\n",
              "      width: 32px;\n",
              "    }\n",
              "\n",
              "    .colab-df-convert:hover {\n",
              "      background-color: #E2EBFA;\n",
              "      box-shadow: 0px 1px 2px rgba(60, 64, 67, 0.3), 0px 1px 3px 1px rgba(60, 64, 67, 0.15);\n",
              "      fill: #174EA6;\n",
              "    }\n",
              "\n",
              "    [theme=dark] .colab-df-convert {\n",
              "      background-color: #3B4455;\n",
              "      fill: #D2E3FC;\n",
              "    }\n",
              "\n",
              "    [theme=dark] .colab-df-convert:hover {\n",
              "      background-color: #434B5C;\n",
              "      box-shadow: 0px 1px 3px 1px rgba(0, 0, 0, 0.15);\n",
              "      filter: drop-shadow(0px 1px 2px rgba(0, 0, 0, 0.3));\n",
              "      fill: #FFFFFF;\n",
              "    }\n",
              "  </style>\n",
              "\n",
              "      <script>\n",
              "        const buttonEl =\n",
              "          document.querySelector('#df-2ed2f472-102b-4bd9-aae3-38934377a526 button.colab-df-convert');\n",
              "        buttonEl.style.display =\n",
              "          google.colab.kernel.accessAllowed ? 'block' : 'none';\n",
              "\n",
              "        async function convertToInteractive(key) {\n",
              "          const element = document.querySelector('#df-2ed2f472-102b-4bd9-aae3-38934377a526');\n",
              "          const dataTable =\n",
              "            await google.colab.kernel.invokeFunction('convertToInteractive',\n",
              "                                                     [key], {});\n",
              "          if (!dataTable) return;\n",
              "\n",
              "          const docLinkHtml = 'Like what you see? Visit the ' +\n",
              "            '<a target=\"_blank\" href=https://colab.research.google.com/notebooks/data_table.ipynb>data table notebook</a>'\n",
              "            + ' to learn more about interactive tables.';\n",
              "          element.innerHTML = '';\n",
              "          dataTable['output_type'] = 'display_data';\n",
              "          await google.colab.output.renderOutput(dataTable, element);\n",
              "          const docLink = document.createElement('div');\n",
              "          docLink.innerHTML = docLinkHtml;\n",
              "          element.appendChild(docLink);\n",
              "        }\n",
              "      </script>\n",
              "    </div>\n",
              "  </div>\n",
              "  "
            ]
          },
          "metadata": {},
          "execution_count": 12
        }
      ]
    },
    {
      "cell_type": "code",
      "source": [
        "df.info()"
      ],
      "metadata": {
        "colab": {
          "base_uri": "https://localhost:8080/"
        },
        "id": "WcOcbwFgfCyF",
        "outputId": "a4436e00-dc77-48e7-e052-cdbe95219273"
      },
      "execution_count": null,
      "outputs": [
        {
          "output_type": "stream",
          "name": "stdout",
          "text": [
            "<class 'pandas.core.frame.DataFrame'>\n",
            "Int64Index: 3774 entries, 81145628 to 80126599\n",
            "Data columns (total 12 columns):\n",
            " #   Column        Non-Null Count  Dtype \n",
            "---  ------        --------------  ----- \n",
            " 0   type          3774 non-null   object\n",
            " 1   title         3774 non-null   object\n",
            " 2   director      3774 non-null   object\n",
            " 3   cast          3774 non-null   object\n",
            " 4   country       3774 non-null   object\n",
            " 5   release_year  3774 non-null   int64 \n",
            " 6   rating        3774 non-null   object\n",
            " 7   duration      3774 non-null   object\n",
            " 8   listed_in     3774 non-null   object\n",
            " 9   description   3774 non-null   object\n",
            " 10  day_added     3774 non-null   int64 \n",
            " 11  month_added   3774 non-null   int64 \n",
            "dtypes: int64(3), object(9)\n",
            "memory usage: 383.3+ KB\n"
          ]
        }
      ]
    },
    {
      "cell_type": "code",
      "source": [
        "df[\"rating\"].value_counts()"
      ],
      "metadata": {
        "colab": {
          "base_uri": "https://localhost:8080/"
        },
        "id": "-5uHct9TgFlj",
        "outputId": "89b4d0ba-6413-4357-eb40-31142439bfd9"
      },
      "execution_count": null,
      "outputs": [
        {
          "output_type": "execute_result",
          "data": {
            "text/plain": [
              "TV-MA       1189\n",
              "TV-14        917\n",
              "R            501\n",
              "TV-PG        358\n",
              "PG-13        278\n",
              "PG           176\n",
              "NR           175\n",
              "TV-G          54\n",
              "TV-Y7         48\n",
              "G             35\n",
              "TV-Y          24\n",
              "TV-Y7-FV      11\n",
              "UR             7\n",
              "NC-17          1\n",
              "Name: rating, dtype: int64"
            ]
          },
          "metadata": {},
          "execution_count": 14
        }
      ]
    },
    {
      "cell_type": "markdown",
      "source": [
        "* Implement TFIDF model\n",
        "* Convert object datatype to numeric datatype"
      ],
      "metadata": {
        "id": "F56ql3KjgfbV"
      }
    },
    {
      "cell_type": "code",
      "source": [
        "from sklearn.feature_extraction.text import TfidfVectorizer\n",
        "vectorizer = TfidfVectorizer()\n",
        "X = vectorizer.fit_transform(df[\"description\"])\n",
        "print(X)"
      ],
      "metadata": {
        "id": "fMKTcHMSiR_L",
        "colab": {
          "base_uri": "https://localhost:8080/"
        },
        "outputId": "4d2b9099-f22f-487c-836f-8917c2983634"
      },
      "execution_count": null,
      "outputs": [
        {
          "output_type": "stream",
          "name": "stdout",
          "text": [
            "  (0, 4275)\t0.1867816340650283\n",
            "  (0, 699)\t0.29480588312719125\n",
            "  (0, 3890)\t0.20070947068489256\n",
            "  (0, 4507)\t0.11310219986430502\n",
            "  (0, 776)\t0.32083740889280393\n",
            "  (0, 10583)\t0.24046604039042407\n",
            "  (0, 968)\t0.1754523136553007\n",
            "  (0, 10910)\t0.16676036802855285\n",
            "  (0, 7321)\t0.15184456774912578\n",
            "  (0, 6152)\t0.23078312557787206\n",
            "  (0, 1108)\t0.2737892026716545\n",
            "  (0, 8318)\t0.28642560363045627\n",
            "  (0, 4825)\t0.26039407786484364\n",
            "  (0, 5250)\t0.07738944949308178\n",
            "  (0, 4385)\t0.10073234050075984\n",
            "  (0, 12083)\t0.21228789877708604\n",
            "  (0, 947)\t0.3056099424833639\n",
            "  (0, 555)\t0.18727264539924882\n",
            "  (0, 8255)\t0.27957841671775124\n",
            "  (0, 1143)\t0.19187211999106488\n",
            "  (1, 1873)\t0.22043542019807608\n",
            "  (1, 6903)\t0.22043542019807608\n",
            "  (1, 10255)\t0.19839629690245525\n",
            "  (1, 3899)\t0.1830595013126377\n",
            "  (1, 4989)\t0.30414942167517073\n",
            "  :\t:\n",
            "  (3772, 6699)\t0.17171581822571352\n",
            "  (3772, 1171)\t0.23592658802272942\n",
            "  (3772, 566)\t0.11279845940206325\n",
            "  (3772, 5571)\t0.06304426158811641\n",
            "  (3772, 7679)\t0.060537720065986934\n",
            "  (3772, 5208)\t0.15252695080907303\n",
            "  (3773, 2439)\t0.24864773428990275\n",
            "  (3773, 7473)\t0.24864773428990275\n",
            "  (3773, 6421)\t0.4972954685798055\n",
            "  (3773, 6900)\t0.4972954685798055\n",
            "  (3773, 9098)\t0.2219787200972127\n",
            "  (3773, 3053)\t0.21667217707911837\n",
            "  (3773, 12414)\t0.21218555888565774\n",
            "  (3773, 6304)\t0.17632351621649797\n",
            "  (3773, 11504)\t0.1473248264822899\n",
            "  (3773, 3049)\t0.1788560177109916\n",
            "  (3773, 6437)\t0.09758557523076354\n",
            "  (3773, 1529)\t0.16372483115651346\n",
            "  (3773, 369)\t0.1816300592345923\n",
            "  (3773, 11606)\t0.16219261389550582\n",
            "  (3773, 12371)\t0.1325467322262395\n",
            "  (3773, 11240)\t0.14688046050020725\n",
            "  (3773, 784)\t0.09343678624033595\n",
            "  (3773, 566)\t0.09648435322895622\n",
            "  (3773, 5571)\t0.05392613371114248\n"
          ]
        }
      ]
    },
    {
      "cell_type": "code",
      "source": [
        "import tensorflow as tf"
      ],
      "metadata": {
        "id": "iD9dH6veDrS8"
      },
      "execution_count": null,
      "outputs": []
    },
    {
      "cell_type": "code",
      "source": [
        "model = tf.keras.Sequential([\n",
        "    tf.keras.layers.Flatten(),\n",
        "    tf.keras.layers.Dense(128,activation=\"relu\"),\n",
        "    tf.keras.layers.Dense(10,activation=\"softmax\")\n",
        "])"
      ],
      "metadata": {
        "id": "5g62biSTGtn3"
      },
      "execution_count": null,
      "outputs": []
    },
    {
      "cell_type": "code",
      "source": [
        "words = vectorizer.get_stop_words()"
      ],
      "metadata": {
        "id": "CFQFt9-oHRU4"
      },
      "execution_count": null,
      "outputs": []
    },
    {
      "cell_type": "code",
      "source": [],
      "metadata": {
        "colab": {
          "base_uri": "https://localhost:8080/"
        },
        "id": "qJzzwUdEH9FL",
        "outputId": "d72f69c2-06f8-4f60-eb83-4358f82facc3"
      },
      "execution_count": null,
      "outputs": [
        {
          "output_type": "execute_result",
          "data": {
            "text/plain": [
              "<3774x12451 sparse matrix of type '<class 'numpy.float64'>'\n",
              "\twith 81732 stored elements in Compressed Sparse Row format>"
            ]
          },
          "metadata": {},
          "execution_count": 44
        }
      ]
    },
    {
      "cell_type": "code",
      "source": [],
      "metadata": {
        "id": "a1BSIiSZIuMt"
      },
      "execution_count": null,
      "outputs": []
    }
  ]
}