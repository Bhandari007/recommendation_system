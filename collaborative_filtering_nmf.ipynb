{
  "nbformat": 4,
  "nbformat_minor": 0,
  "metadata": {
    "colab": {
      "provenance": [],
      "authorship_tag": "ABX9TyNTOyBo6Mzkt1HNoc8s4qRh",
      "include_colab_link": true
    },
    "kernelspec": {
      "name": "python3",
      "display_name": "Python 3"
    },
    "language_info": {
      "name": "python"
    }
  },
  "cells": [
    {
      "cell_type": "markdown",
      "metadata": {
        "id": "view-in-github",
        "colab_type": "text"
      },
      "source": [
        "<a href=\"https://colab.research.google.com/github/Bhandari007/recommendation_system/blob/main/collaborative_filtering_nmf.ipynb\" target=\"_parent\"><img src=\"https://colab.research.google.com/assets/colab-badge.svg\" alt=\"Open In Colab\"/></a>"
      ]
    },
    {
      "cell_type": "markdown",
      "source": [
        "# Collaborative Filtering based Recommender System using Non-negative Matrix Factorization\n",
        "\n",
        "### Objective\n",
        "\n",
        "* To perform NMF-based collaborative filtering on the user-item matrix"
      ],
      "metadata": {
        "id": "Zb5gac8lHe2b"
      }
    },
    {
      "cell_type": "code",
      "source": [],
      "metadata": {
        "id": "n4C2plA_HrOX"
      },
      "execution_count": null,
      "outputs": []
    }
  ]
}